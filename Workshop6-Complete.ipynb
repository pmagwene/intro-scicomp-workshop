{
 "metadata": {
  "name": ""
 },
 "nbformat": 3,
 "nbformat_minor": 0,
 "worksheets": [
  {
   "cells": [
    {
     "cell_type": "heading",
     "level": 1,
     "metadata": {},
     "source": [
      "Workshop 6: Building a Simple Bioinformatics Pipeline"
     ]
    },
    {
     "cell_type": "markdown",
     "metadata": {},
     "source": [
      "Many types of analyses, especially those involving genomic data, require the investigator to carry out a large number of sequential steps. For example, given a set of uncharacterized genes in your organism of interest you might want to find out as much as you can about the structure and function of the proteins they encode, search for related proteins in other organisms, and try to identify pathways that they might be involved in. If you had only a single gene of interest you might apply each of the appropriate software tools by hand to carry out such an analysis. However, when the number of genes of interest grows beyond a small number (say 10-15) doing such an analysis by hand starts to become tedious and error prone. A bioinformatics pipeline can help to automate this process, will make the analysis easier to replicate or apply to new sets of genes, and can be modified to include additional tasks. Writing out a series of analysis steps as a pipeline also helps us to achieve the goal of reproducible research."
     ]
    },
    {
     "cell_type": "heading",
     "level": 2,
     "metadata": {},
     "source": [
      "The Pipeline"
     ]
    },
    {
     "cell_type": "markdown",
     "metadata": {},
     "source": [
      "The tasks carried out by the pipeline will will build today are as follows:\n",
      "\n",
      " * Read in a nucleotide sequence from a FASTA file\n",
      " * Translate the nucleotide sequence to an amino acid sequence\n",
      " * Do a blastp search against human and fly proteins in the Swiss-Prot database using an interface to the NCBI web version of BLAST\n",
      " * Download protein sequences for the best blast hits from Swiss-Prot\n",
      " * Use MAFFT to do a multiple alignment of the original amino acid sequence and the presumed orthologs generated via the blast search\n",
      "\n",
      "You will need a working installation of Python (2.7+), IPython, and the BioPython library (1.59+) as well as the command line sequence alignment tool, MAFFT."
     ]
    },
    {
     "cell_type": "heading",
     "level": 2,
     "metadata": {},
     "source": [
      "Biopython"
     ]
    },
    {
     "cell_type": "markdown",
     "metadata": {},
     "source": [
      "Now we turn our attention to Biopython.  As we build our pipeline I will first demonstrate the use of various modules, classes, and functions in the interactive shell and then I will give a set of functions that consolidate the commands to make them convenient to use."
     ]
    },
    {
     "cell_type": "heading",
     "level": 3,
     "metadata": {},
     "source": [
      "Test files"
     ]
    },
    {
     "cell_type": "markdown",
     "metadata": {},
     "source": [
      "Use `wget` to download the files from the course repository to your virtual machine:\n",
      "\n",
      " * `unknown1.fas` \n",
      " * `unknown2.fas` \n",
      "    \n"
     ]
    },
    {
     "cell_type": "code",
     "collapsed": false,
     "input": [
      "# uncomment and run this line\n",
      "#!wget https://github.com/pmagwene/intro-scicomp-workshop/raw/master/unknown1.fas"
     ],
     "language": "python",
     "metadata": {},
     "outputs": [],
     "prompt_number": 116
    },
    {
     "cell_type": "code",
     "collapsed": false,
     "input": [
      "# uncomment and run this line\n",
      "# !wget https://github.com/pmagwene/intro-scicomp-workshop/raw/master/unknown2.fas"
     ],
     "language": "python",
     "metadata": {},
     "outputs": [],
     "prompt_number": 117
    },
    {
     "cell_type": "code",
     "collapsed": false,
     "input": [
      "ls *fas"
     ],
     "language": "python",
     "metadata": {},
     "outputs": [
      {
       "output_type": "stream",
       "stream": "stdout",
       "text": [
        "unknown1.fas  unknown2.fas\r\n"
       ]
      }
     ],
     "prompt_number": 118
    },
    {
     "cell_type": "heading",
     "level": 3,
     "metadata": {},
     "source": [
      "Reading in a single sequnce from a FASTA file"
     ]
    },
    {
     "cell_type": "code",
     "collapsed": false,
     "input": [
      "from Bio import SeqIO"
     ],
     "language": "python",
     "metadata": {},
     "outputs": [],
     "prompt_number": 119
    },
    {
     "cell_type": "code",
     "collapsed": false,
     "input": [
      "# read a FASTA sequence file \n",
      "u1 = SeqIO.read('unknown1.fas', 'fasta')"
     ],
     "language": "python",
     "metadata": {},
     "outputs": [],
     "prompt_number": 120
    },
    {
     "cell_type": "code",
     "collapsed": false,
     "input": [
      "# each sequence in the FASTA file is held in a sequence record\n",
      "type(u1)"
     ],
     "language": "python",
     "metadata": {},
     "outputs": [
      {
       "metadata": {},
       "output_type": "pyout",
       "prompt_number": 121,
       "text": [
        "Bio.SeqRecord.SeqRecord"
       ]
      }
     ],
     "prompt_number": 121
    },
    {
     "cell_type": "code",
     "collapsed": false,
     "input": [
      "SeqIO.write([u1], 'unknown1-b.fasta', 'fasta')"
     ],
     "language": "python",
     "metadata": {},
     "outputs": [
      {
       "metadata": {},
       "output_type": "pyout",
       "prompt_number": 133,
       "text": [
        "1"
       ]
      }
     ],
     "prompt_number": 133
    },
    {
     "cell_type": "code",
     "collapsed": false,
     "input": [
      "u1"
     ],
     "language": "python",
     "metadata": {},
     "outputs": [
      {
       "metadata": {},
       "output_type": "pyout",
       "prompt_number": 122,
       "text": [
        "SeqRecord(seq=Seq('ATGATGAATTTTTTTACATCAAAATCGTCGAATCAGGATACTGGATTTAGCTCT...TGA', SingleLetterAlphabet()), id='YHR205W', name='YHR205W', description='YHR205W  Chr 8', dbxrefs=[])"
       ]
      }
     ],
     "prompt_number": 122
    },
    {
     "cell_type": "code",
     "collapsed": false,
     "input": [
      "# Sequence records have names\n",
      "u1.name"
     ],
     "language": "python",
     "metadata": {},
     "outputs": [
      {
       "metadata": {},
       "output_type": "pyout",
       "prompt_number": 123,
       "text": [
        "'YHR205W'"
       ]
      }
     ],
     "prompt_number": 123
    },
    {
     "cell_type": "code",
     "collapsed": false,
     "input": [
      "# descriptive string\n",
      "u1.description"
     ],
     "language": "python",
     "metadata": {},
     "outputs": [
      {
       "metadata": {},
       "output_type": "pyout",
       "prompt_number": 124,
       "text": [
        "'YHR205W  Chr 8'"
       ]
      }
     ],
     "prompt_number": 124
    },
    {
     "cell_type": "code",
     "collapsed": false,
     "input": [
      "# The actual sequence\n",
      "u1.seq"
     ],
     "language": "python",
     "metadata": {},
     "outputs": [
      {
       "metadata": {},
       "output_type": "pyout",
       "prompt_number": 125,
       "text": [
        "Seq('ATGATGAATTTTTTTACATCAAAATCGTCGAATCAGGATACTGGATTTAGCTCT...TGA', SingleLetterAlphabet())"
       ]
      }
     ],
     "prompt_number": 125
    },
    {
     "cell_type": "code",
     "collapsed": false,
     "input": [
      "# Biopython Seq objects can be sliced and indexed like strings\n",
      "u1.seq[10:20]"
     ],
     "language": "python",
     "metadata": {},
     "outputs": [
      {
       "metadata": {},
       "output_type": "pyout",
       "prompt_number": 126,
       "text": [
        "Seq('TTTTTACATC', SingleLetterAlphabet())"
       ]
      }
     ],
     "prompt_number": 126
    },
    {
     "cell_type": "code",
     "collapsed": false,
     "input": [
      "u1.seq[-10:]"
     ],
     "language": "python",
     "metadata": {},
     "outputs": [
      {
       "metadata": {},
       "output_type": "pyout",
       "prompt_number": 127,
       "text": [
        "Seq('CGAAATATGA', SingleLetterAlphabet())"
       ]
      }
     ],
     "prompt_number": 127
    },
    {
     "cell_type": "code",
     "collapsed": false,
     "input": [
      "u1.seq[0]"
     ],
     "language": "python",
     "metadata": {},
     "outputs": [
      {
       "metadata": {},
       "output_type": "pyout",
       "prompt_number": 11,
       "text": [
        "'A'"
       ]
      }
     ],
     "prompt_number": 11
    },
    {
     "cell_type": "code",
     "collapsed": false,
     "input": [
      "u1.seq[9]"
     ],
     "language": "python",
     "metadata": {},
     "outputs": [
      {
       "metadata": {},
       "output_type": "pyout",
       "prompt_number": 12,
       "text": [
        "'T'"
       ]
      }
     ],
     "prompt_number": 12
    },
    {
     "cell_type": "code",
     "collapsed": false,
     "input": [
      "# Converstion to a real Python string\n",
      "u1.seq[:10].tostring()"
     ],
     "language": "python",
     "metadata": {},
     "outputs": [
      {
       "metadata": {},
       "output_type": "pyout",
       "prompt_number": 128,
       "text": [
        "'ATGATGAATT'"
       ]
      }
     ],
     "prompt_number": 128
    },
    {
     "cell_type": "code",
     "collapsed": false,
     "input": [
      "u1.seq.translate()"
     ],
     "language": "python",
     "metadata": {},
     "outputs": [
      {
       "metadata": {},
       "output_type": "pyout",
       "prompt_number": 130,
       "text": [
        "Seq('MMNFFTSKSSNQDTGFSSQHQHPNGQNNGNNNSSTAGNDNGYPCKLVSSGPCAS...EI*', HasStopCodon(ExtendedIUPACProtein(), '*'))"
       ]
      }
     ],
     "prompt_number": 130
    },
    {
     "cell_type": "markdown",
     "metadata": {},
     "source": [
      "`SeqIO` is a sub-module of the top-level module Biopython module `Bio`.  The function `SeqIO.read()` reads a single sequence object from a file and returns an instance of a `SeqRecord` class (defined in the Biopython package). A *class* is a programming concept that groups data and functions that operate on that data into a single object. For example, in the code above we used the `.name` and `.description` attributes to examine information about the sequence (this information was retrieved from the FASTA file itself).  A `SeqRecord` holds a `Seq` object (yet another class!) as well as accessory information like the name of the sequence, a description, etc. `Seq` objects act very much like strings in terms of slicing and element access but they also have specialized function like `.translate()` that can be used to translate a nucleotide sequence into a peptide sequence."
     ]
    },
    {
     "cell_type": "heading",
     "level": 3,
     "metadata": {},
     "source": [
      "Reading in multiple sequences from a FASTA file"
     ]
    },
    {
     "cell_type": "markdown",
     "metadata": {},
     "source": [
      "In the code above we demonstrated how to read a single sequence from a FASTA file.  Here we demonstrate how to read multiple sequences.  The key difference is the use of the `SeqIO.parse()` function rather than `SeqIO.read()`."
     ]
    },
    {
     "cell_type": "code",
     "collapsed": false,
     "input": [
      "u2 = SeqIO.parse('unknown2.fas', 'fasta')\n",
      "recs = [i for i in u2]"
     ],
     "language": "python",
     "metadata": {},
     "outputs": [],
     "prompt_number": 146
    },
    {
     "cell_type": "code",
     "collapsed": false,
     "input": [
      "recs[0]"
     ],
     "language": "python",
     "metadata": {},
     "outputs": [
      {
       "metadata": {},
       "output_type": "pyout",
       "prompt_number": 148,
       "text": [
        "SeqRecord(seq=Seq('ATGTCATCAAAACCTGATACTGGTTCGGAAATTTCTGGCCCTCAGCGACAGGAA...TGA', SingleLetterAlphabet()), id='YJL005W', name='YJL005W', description='YJL005W', dbxrefs=[])"
       ]
      }
     ],
     "prompt_number": 148
    },
    {
     "cell_type": "code",
     "collapsed": false,
     "input": [
      "type(u2)"
     ],
     "language": "python",
     "metadata": {},
     "outputs": [
      {
       "metadata": {},
       "output_type": "pyout",
       "prompt_number": 135,
       "text": [
        "generator"
       ]
      }
     ],
     "prompt_number": 135
    },
    {
     "cell_type": "code",
     "collapsed": false,
     "input": [
      "s1 = u2.next()"
     ],
     "language": "python",
     "metadata": {},
     "outputs": [],
     "prompt_number": 136
    },
    {
     "cell_type": "code",
     "collapsed": false,
     "input": [
      "type(s1)"
     ],
     "language": "python",
     "metadata": {},
     "outputs": [
      {
       "metadata": {},
       "output_type": "pyout",
       "prompt_number": 137,
       "text": [
        "Bio.SeqRecord.SeqRecord"
       ]
      }
     ],
     "prompt_number": 137
    },
    {
     "cell_type": "code",
     "collapsed": false,
     "input": [
      "s1"
     ],
     "language": "python",
     "metadata": {},
     "outputs": [
      {
       "metadata": {},
       "output_type": "pyout",
       "prompt_number": 138,
       "text": [
        "SeqRecord(seq=Seq('ATGTCATCAAAACCTGATACTGGTTCGGAAATTTCTGGCCCTCAGCGACAGGAA...TGA', SingleLetterAlphabet()), id='YJL005W', name='YJL005W', description='YJL005W', dbxrefs=[])"
       ]
      }
     ],
     "prompt_number": 138
    },
    {
     "cell_type": "code",
     "collapsed": false,
     "input": [
      "s1.seq"
     ],
     "language": "python",
     "metadata": {},
     "outputs": [
      {
       "metadata": {},
       "output_type": "pyout",
       "prompt_number": 139,
       "text": [
        "Seq('ATGTCATCAAAACCTGATACTGGTTCGGAAATTTCTGGCCCTCAGCGACAGGAA...TGA', SingleLetterAlphabet())"
       ]
      }
     ],
     "prompt_number": 139
    },
    {
     "cell_type": "code",
     "collapsed": false,
     "input": [
      "s2 = u2.next()"
     ],
     "language": "python",
     "metadata": {},
     "outputs": [],
     "prompt_number": 140
    },
    {
     "cell_type": "code",
     "collapsed": false,
     "input": [
      "s2"
     ],
     "language": "python",
     "metadata": {},
     "outputs": [
      {
       "metadata": {},
       "output_type": "pyout",
       "prompt_number": 141,
       "text": [
        "SeqRecord(seq=Seq('ATGTCATCAAATCATGCTATTAGTCCAGAAACTTCTGGCTCTCATGAGCAACAA...TGA', SingleLetterAlphabet()), id='MIT_Sbay_c342_13338', name='MIT_Sbay_c342_13338', description='MIT_Sbay_c342_13338', dbxrefs=[])"
       ]
      }
     ],
     "prompt_number": 141
    },
    {
     "cell_type": "code",
     "collapsed": false,
     "input": [
      "s3 = u2.next()"
     ],
     "language": "python",
     "metadata": {},
     "outputs": [],
     "prompt_number": 142
    },
    {
     "cell_type": "code",
     "collapsed": false,
     "input": [
      "s4 = u2.next()"
     ],
     "language": "python",
     "metadata": {},
     "outputs": [],
     "prompt_number": 143
    },
    {
     "cell_type": "code",
     "collapsed": false,
     "input": [
      "s5 = u2.next()"
     ],
     "language": "python",
     "metadata": {},
     "outputs": [
      {
       "ename": "StopIteration",
       "evalue": "",
       "output_type": "pyerr",
       "traceback": [
        "\u001b[0;31m---------------------------------------------------------------------------\u001b[0m\n\u001b[0;31mStopIteration\u001b[0m                             Traceback (most recent call last)",
        "\u001b[0;32m<ipython-input-144-d1f199bdbfb2>\u001b[0m in \u001b[0;36m<module>\u001b[0;34m()\u001b[0m\n\u001b[0;32m----> 1\u001b[0;31m \u001b[0ms5\u001b[0m \u001b[0;34m=\u001b[0m \u001b[0mu2\u001b[0m\u001b[0;34m.\u001b[0m\u001b[0mnext\u001b[0m\u001b[0;34m(\u001b[0m\u001b[0;34m)\u001b[0m\u001b[0;34m\u001b[0m\u001b[0m\n\u001b[0m",
        "\u001b[0;31mStopIteration\u001b[0m: "
       ]
      }
     ],
     "prompt_number": 144
    },
    {
     "cell_type": "markdown",
     "metadata": {},
     "source": [
      "In this case the `SeqIO.parse` function returns an object that has *iterator* semantics (technically it's a \"generator\" but this is a technical difference that you can ignore for now). An iterator is an object that acts like a sequence (e.g. a list or tuple), but there are some major differences. The most important one is that an iterator does not have to compute the entire sequence at once. In the case of the `SeqIO.parse()` function that means that if you have a FASTA file with thousands of sequence entries it wouldn't try to suck them all into memory. The `.next()` method is used to call successive sequence entries in the FASTA file. When you call `.next()` on the iterator(generator) instance you get back `SeqRecords`, one at a time. However, as the last call demonstrates if there is no 'next' item in the iterator it raises a `StopIteration` exception. For more info about iterators and generators see Norman Matloff's [Tutorial on Python Iterators and Generators](https://github.com/pmagwene/Bio313/raw/master/lecture-13/PyIterGen.pdf)."
     ]
    },
    {
     "cell_type": "heading",
     "level": 3,
     "metadata": {},
     "source": [
      "Creating SeqRecord's"
     ]
    },
    {
     "cell_type": "markdown",
     "metadata": {},
     "source": [
      "There are a couple of different ways to create SeqRecord objects from scratch.  The first is to explicitly instatiate an instance of the class the appropriate arguments"
     ]
    },
    {
     "cell_type": "code",
     "collapsed": false,
     "input": [
      "from Bio.SeqRecord import SeqRecord\n",
      "from Bio.Seq import Seq\n",
      "from Bio import Alphabet"
     ],
     "language": "python",
     "metadata": {},
     "outputs": [],
     "prompt_number": 150
    },
    {
     "cell_type": "code",
     "collapsed": false,
     "input": [
      "fmp32str = \"\"\"ATGCTCAAGCGTATTGTTGGATTGCCTGCAAGGCGTTGCTTTCATAGAACGTCCTTTTTG\n",
      "CTGGGCAGTGACTTTGAAACTGTGCATATTCCCAATACGAACCACTTTAAAGATTTACTT\n",
      "ATAGAGAACGGTAAATTTCAAGAGGATCAAGCAACTACAATAGTAGAGATAATGACAGAT\n",
      "GCAATTAGGGGCGGGGTTAATCATGTTTCACAGGATCTGGCAAAGAGAGAAAAATTGACC\n",
      "CAACTTAGCTATCAACAACGTGTTGATTTTGCAAAGTTAAGAGATCAGCTATTGAGTGCT\n",
      "GATAGAAGTGAATTTCACAATATTCAAAACGAGTACGAAAGTGTGAAAAACGATCTGGAG\n",
      "AAACTAAGAAACAAACTAAGGGAAGAAATTACCAAAACAAACGCCGGTTTCAAACTTGAT\n",
      "CTGTCCTTAGAAAAAGGCAGAATTAGGGAAGAAAGTAGTCATCACGATCTGCAAATAAAA\n",
      "GAAATCGACACCAAAATTGAGCAAGAAGTGACCAATATGAAGATGCAGATTGATTCTGTC\n",
      "AAGACTCAAGTCATGCAATGGCTGATAGGTGTCTGTACAGGTACATTTGCACTTGTATTA\n",
      "GCATATATGAGGTTATTAACATAG\"\"\"\n",
      "\n",
      "fmp32 = Seq(fmp32str, Alphabet.DNAAlphabet())\n"
     ],
     "language": "python",
     "metadata": {},
     "outputs": [],
     "prompt_number": 151
    },
    {
     "cell_type": "code",
     "collapsed": false,
     "input": [
      "fmp32"
     ],
     "language": "python",
     "metadata": {},
     "outputs": [
      {
       "metadata": {},
       "output_type": "pyout",
       "prompt_number": 152,
       "text": [
        "Seq('ATGCTCAAGCGTATTGTTGGATTGCCTGCAAGGCGTTGCTTTCATAGAACGTCC...TAG', DNAAlphabet())"
       ]
      }
     ],
     "prompt_number": 152
    },
    {
     "cell_type": "code",
     "collapsed": false,
     "input": [
      "r1 = SeqRecord(fmp32, id='YFL046W', name='FMP32')"
     ],
     "language": "python",
     "metadata": {},
     "outputs": [],
     "prompt_number": 153
    },
    {
     "cell_type": "code",
     "collapsed": false,
     "input": [
      "r1"
     ],
     "language": "python",
     "metadata": {},
     "outputs": [
      {
       "metadata": {},
       "output_type": "pyout",
       "prompt_number": 29,
       "text": [
        "SeqRecord(seq=Seq('ATGCTCAAGCGTATTGTTGGATTGCCTGCAAGGCGTTGCTTTCATAGAACGTCC...TAG', DNAAlphabet()), id='YFL046W', name='FMP32', description='<unknown description>', dbxrefs=[])"
       ]
      }
     ],
     "prompt_number": 29
    },
    {
     "cell_type": "code",
     "collapsed": false,
     "input": [
      "SeqIO.write([r1], 'output.gb', 'gb"
     ],
     "language": "python",
     "metadata": {},
     "outputs": [
      {
       "metadata": {},
       "output_type": "pyout",
       "prompt_number": 154,
       "text": [
        "1"
       ]
      }
     ],
     "prompt_number": 154
    },
    {
     "cell_type": "markdown",
     "metadata": {},
     "source": [
      "An alternate way to create a SeqRecord that is especially convenient when you have a string that represents a FASTA entry, is to use the StringIO module to create an in-memory file like object.  This saves you having to explicitly create a Seq object"
     ]
    },
    {
     "cell_type": "code",
     "collapsed": false,
     "input": [
      "fastastr = \"\"\">YFL046W  Chr 6  \n",
      "ATGCTCAAGCGTATTGTTGGATTGCCTGCAAGGCGTTGCTTTCATAGAACGTCCTTTTTG\n",
      "CTGGGCAGTGACTTTGAAACTGTGCATATTCCCAATACGAACCACTTTAAAGATTTACTT\n",
      "ATAGAGAACGGTAAATTTCAAGAGGATCAAGCAACTACAATAGTAGAGATAATGACAGAT\n",
      "GCAATTAGGGGCGGGGTTAATCATGTTTCACAGGATCTGGCAAAGAGAGAAAAATTGACC\n",
      "CAACTTAGCTATCAACAACGTGTTGATTTTGCAAAGTTAAGAGATCAGCTATTGAGTGCT\n",
      "GATAGAAGTGAATTTCACAATATTCAAAACGAGTACGAAAGTGTGAAAAACGATCTGGAG\n",
      "AAACTAAGAAACAAACTAAGGGAAGAAATTACCAAAACAAACGCCGGTTTCAAACTTGAT\n",
      "CTGTCCTTAGAAAAAGGCAGAATTAGGGAAGAAAGTAGTCATCACGATCTGCAAATAAAA\n",
      "GAAATCGACACCAAAATTGAGCAAGAAGTGACCAATATGAAGATGCAGATTGATTCTGTC\n",
      "AAGACTCAAGTCATGCAATGGCTGATAGGTGTCTGTACAGGTACATTTGCACTTGTATTA\n",
      "GCATATATGAGGTTATTAACATAG\"\"\"\n",
      "\n",
      "import StringIO  # from the PSL -- see https://docs.python.org/2/library/stringio.html\n",
      "strfile = StringIO.StringIO(fastastr)\n",
      "r2 = SeqIO.read(strfile, 'fasta')"
     ],
     "language": "python",
     "metadata": {},
     "outputs": [],
     "prompt_number": 155
    },
    {
     "cell_type": "code",
     "collapsed": false,
     "input": [
      "r2"
     ],
     "language": "python",
     "metadata": {},
     "outputs": [
      {
       "metadata": {},
       "output_type": "pyout",
       "prompt_number": 156,
       "text": [
        "SeqRecord(seq=Seq('ATGCTCAAGCGTATTGTTGGATTGCCTGCAAGGCGTTGCTTTCATAGAACGTCC...TAG', SingleLetterAlphabet()), id='YFL046W', name='YFL046W', description='YFL046W  Chr 6', dbxrefs=[])"
       ]
      }
     ],
     "prompt_number": 156
    },
    {
     "cell_type": "heading",
     "level": 2,
     "metadata": {},
     "source": [
      "Other useful SeqIO functions"
     ]
    },
    {
     "cell_type": "markdown",
     "metadata": {},
     "source": [
      "Below are a couple more useful SeqIO functions and related approaches."
     ]
    },
    {
     "cell_type": "heading",
     "level": 3,
     "metadata": {},
     "source": [
      "SeqIO.to_dict"
     ]
    },
    {
     "cell_type": "code",
     "collapsed": false,
     "input": [
      "# SeqIO.to_dict\n",
      "d2 = SeqIO.to_dict(SeqIO.parse('unknown2.fas', 'fasta'))\n"
     ],
     "language": "python",
     "metadata": {},
     "outputs": [],
     "prompt_number": 32
    },
    {
     "cell_type": "code",
     "collapsed": false,
     "input": [
      "d2.keys()"
     ],
     "language": "python",
     "metadata": {},
     "outputs": [
      {
       "metadata": {},
       "output_type": "pyout",
       "prompt_number": 33,
       "text": [
        "['YJL005W',\n",
        " 'MIT_Smik_c333_12160',\n",
        " 'MIT_Sbay_c342_13338',\n",
        " 'MIT_Spar_c300_12282']"
       ]
      }
     ],
     "prompt_number": 33
    },
    {
     "cell_type": "code",
     "collapsed": false,
     "input": [
      "d2['YJL005W']"
     ],
     "language": "python",
     "metadata": {},
     "outputs": [
      {
       "metadata": {},
       "output_type": "pyout",
       "prompt_number": 34,
       "text": [
        "SeqRecord(seq=Seq('ATGTCATCAAAACCTGATACTGGTTCGGAAATTTCTGGCCCTCAGCGACAGGAA...TGA', SingleLetterAlphabet()), id='YJL005W', name='YJL005W', description='YJL005W', dbxrefs=[])"
       ]
      }
     ],
     "prompt_number": 34
    },
    {
     "cell_type": "code",
     "collapsed": false,
     "input": [
      "d2['MIT_Smik_c333_12160']"
     ],
     "language": "python",
     "metadata": {},
     "outputs": [
      {
       "metadata": {},
       "output_type": "pyout",
       "prompt_number": 35,
       "text": [
        "SeqRecord(seq=Seq('ATGCCATCAGAGCCTGATACTGGTTTAGGAACTGGCCCTCACGACCACAAACGA...TGA', SingleLetterAlphabet()), id='MIT_Smik_c333_12160', name='MIT_Smik_c333_12160', description='MIT_Smik_c333_12160', dbxrefs=[])"
       ]
      }
     ],
     "prompt_number": 35
    },
    {
     "cell_type": "heading",
     "level": 2,
     "metadata": {},
     "source": [
      "Starting to Put together our Pipeline"
     ]
    },
    {
     "cell_type": "markdown",
     "metadata": {},
     "source": [
      "We'll start a Python module called `pipeline.py` that will hold the functions we need for our pipeline. We'll place each of the functions we develop in a module called |pipeline.py| (place this in your working directory or your |PYTHONPATH|).  As you progress through the pipeline design you will add additional functions to this module.\n",
      "\n",
      "Since the first step of our pipeline is to read a fasta file, we'll write a simple wrapper function around the `SeqIO.parse` function."
     ]
    },
    {
     "cell_type": "code",
     "collapsed": false,
     "input": [
      "# pipeline.py -- a simple bioinformatics pipeline\n",
      "\n",
      "from Bio import SeqIO\n",
      "\n",
      "def parse_fasta(infile):\n",
      "    \"\"\"Read multiple sequences from a FASTA file\"\"\"\n",
      "    recs = SeqIO.parse(infile,'fasta')\n",
      "    return [i for i in recs]"
     ],
     "language": "python",
     "metadata": {},
     "outputs": [],
     "prompt_number": 157
    },
    {
     "cell_type": "code",
     "collapsed": false,
     "input": [
      "recs = parse_fasta('unknown2.fas')"
     ],
     "language": "python",
     "metadata": {},
     "outputs": [],
     "prompt_number": 158
    },
    {
     "cell_type": "code",
     "collapsed": false,
     "input": [
      "len(recs)"
     ],
     "language": "python",
     "metadata": {},
     "outputs": [
      {
       "metadata": {},
       "output_type": "pyout",
       "prompt_number": 159,
       "text": [
        "4"
       ]
      }
     ],
     "prompt_number": 159
    },
    {
     "cell_type": "code",
     "collapsed": false,
     "input": [
      "[i.name for i in recs]"
     ],
     "language": "python",
     "metadata": {},
     "outputs": [
      {
       "metadata": {},
       "output_type": "pyout",
       "prompt_number": 160,
       "text": [
        "['YJL005W',\n",
        " 'MIT_Sbay_c342_13338',\n",
        " 'MIT_Smik_c333_12160',\n",
        " 'MIT_Spar_c300_12282']"
       ]
      }
     ],
     "prompt_number": 160
    },
    {
     "cell_type": "markdown",
     "metadata": {},
     "source": [
      "### Translating nucleotide sequence to a protein sequence\n",
      "\n",
      "The next step is to translate each  DNA sequence into a corresponding protein sequence. This is very easy using the |.translate()| method associated with the |Seq| class."
     ]
    },
    {
     "cell_type": "code",
     "collapsed": false,
     "input": [
      "seq0 = recs[0].seq"
     ],
     "language": "python",
     "metadata": {},
     "outputs": [],
     "prompt_number": 161
    },
    {
     "cell_type": "code",
     "collapsed": false,
     "input": [
      "seq0.translate()"
     ],
     "language": "python",
     "metadata": {},
     "outputs": [
      {
       "metadata": {},
       "output_type": "pyout",
       "prompt_number": 162,
       "text": [
        "Seq('MSSKPDTGSEISGPQRQEEQEQQIEQSSPTEANDRSIHDEVPKVKKRHEQNSGH...ST*', HasStopCodon(ExtendedIUPACProtein(), '*'))"
       ]
      }
     ],
     "prompt_number": 162
    },
    {
     "cell_type": "markdown",
     "metadata": {},
     "source": [
      "Note that the above code returns an object of type `Seq`. That's usually what we want if we're manipulating nucleotide or protein sequences but if we want to write our translated sequences back out into a file we need to create new `SeqRecords`. I illustrate this in the function below (add this to `pipeline.py`)."
     ]
    },
    {
     "cell_type": "code",
     "collapsed": false,
     "input": [
      "from Bio import Seq\n",
      "from Bio import SeqRecord\n",
      "\n",
      "def translate_recs(seqrecs):\n",
      "    \"\"\" nucleotide SeqRecords -> translated protein SeqRecords \"\"\"\n",
      "    proteins = []\n",
      "    for rec in seqrecs:\n",
      "        aaseq = rec.seq.translate()\n",
      "        protrec = SeqRecord.SeqRecord(aaseq, id=rec.id, name=rec.name,\n",
      "        \t\t\t      description=rec.description)\n",
      "        proteins.append(protrec)\n",
      "    return proteins"
     ],
     "language": "python",
     "metadata": {},
     "outputs": [],
     "prompt_number": 165
    },
    {
     "cell_type": "markdown",
     "metadata": {},
     "source": [
      "We can then encapsulate the whole process of converting a nucleotide FASTA file to a peptide sequence FASTA file as so (add these to `pipeline.py`):"
     ]
    },
    {
     "cell_type": "code",
     "collapsed": false,
     "input": [
      "def write_fasta(recs, outfile):\n",
      "    ofile = open(outfile, 'w')\n",
      "    SeqIO.write(recs, ofile, 'fasta')\n",
      "\n",
      "def translate_fasta(infile, outfile):\n",
      "    \"\"\" nucleotide fasta file -> protein fasta file \"\"\"\n",
      "    nrecs = parse_fasta(infile)\n",
      "    precs = translate_recs(nrecs)\n",
      "    write_fasta(precs, outfile)"
     ],
     "language": "python",
     "metadata": {},
     "outputs": [],
     "prompt_number": 166
    },
    {
     "cell_type": "markdown",
     "metadata": {},
     "source": [
      "As we saw in an earlier workshop session, `open()` is a built-in Python function that when called with the `'w'` argument opens a file for writing. When called with `'r'` as it's second argument it opens a file for reading.\n",
      "\n",
      "We can use our `translate_fasta` function from the Python interpreter like so:"
     ]
    },
    {
     "cell_type": "code",
     "collapsed": false,
     "input": [
      "translate_fasta('unknown2.fas', 'unknown2-protein.fasta')"
     ],
     "language": "python",
     "metadata": {},
     "outputs": [],
     "prompt_number": 168
    },
    {
     "cell_type": "markdown",
     "metadata": {},
     "source": [
      "Take a moment to open the file `unknown2-protein.fasta` in a text editor to confirm that the file  holds amino acid sequences rather than nucleotide sequences."
     ]
    },
    {
     "cell_type": "markdown",
     "metadata": {},
     "source": [
      "#### Globbing to get multiple files of a given type\n",
      "\n",
      "As an aside, what if we wanted to repeat this for a whole directory full of DNA sequences in separate FASTA files?  Here's a function to help accomplish that task:"
     ]
    },
    {
     "cell_type": "code",
     "collapsed": false,
     "input": [
      "import glob\n",
      "\n",
      "def inout_pairs(insuffix, outsuffix):\n",
      "    \"\"\" Files in directory with given suffix -> list of tuples w/ (infile,outfile)\"\"\"\n",
      "    infiles = glob.glob('*'+insuffix)\n",
      "    pairs = []\n",
      "    for infile in infiles:\n",
      "        inprefix = infile[:-len(insuffix)]\n",
      "        outfile = inprefix + outsuffix\n",
      "        pairs.append((infile,outfile))\n",
      "    return pairs"
     ],
     "language": "python",
     "metadata": {},
     "outputs": [],
     "prompt_number": 169
    },
    {
     "cell_type": "markdown",
     "metadata": {},
     "source": [
      "The |glob| module gives you filename `globbing' functionality. Globbing is a means of matching specified file or pathnames; you can think about this as a simplified class of regular expressions. The |inout_pairs()| function we defined above allows us to glob file files with the given |insuffix| and create a corresponding set of names for output files. The following illustrates this:"
     ]
    },
    {
     "cell_type": "code",
     "collapsed": false,
     "input": [
      "pairs = inout_pairs('.fas', '-protein.fasta')"
     ],
     "language": "python",
     "metadata": {},
     "outputs": [],
     "prompt_number": 170
    },
    {
     "cell_type": "code",
     "collapsed": false,
     "input": [
      "pairs"
     ],
     "language": "python",
     "metadata": {},
     "outputs": [
      {
       "metadata": {},
       "output_type": "pyout",
       "prompt_number": 171,
       "text": [
        "[('unknown1.fas', 'unknown1-protein.fasta'),\n",
        " ('unknown2.fas', 'unknown2-protein.fasta')]"
       ]
      }
     ],
     "prompt_number": 171
    },
    {
     "cell_type": "code",
     "collapsed": false,
     "input": [
      "for (i,o) in pairs:\n",
      "    translate_fasta(i, o)"
     ],
     "language": "python",
     "metadata": {},
     "outputs": [],
     "prompt_number": 172
    },
    {
     "cell_type": "code",
     "collapsed": false,
     "input": [
      "from Bio.Data.CodonTable import TranslationError"
     ],
     "language": "python",
     "metadata": {},
     "outputs": [],
     "prompt_number": 52
    },
    {
     "cell_type": "code",
     "collapsed": false,
     "input": [
      "for (i,o) in pairs:\n",
      "    try:\n",
      "        translate_fasta(i,o)\n",
      "    except TranslationError:\n",
      "        continue"
     ],
     "language": "python",
     "metadata": {},
     "outputs": [],
     "prompt_number": 53
    },
    {
     "cell_type": "code",
     "collapsed": false,
     "input": [
      "ls *.fas*"
     ],
     "language": "python",
     "metadata": {},
     "outputs": [
      {
       "output_type": "stream",
       "stream": "stdout",
       "text": [
        "unknown1-protein.fasta  unknown2-protein.fasta\r\n",
        "unknown1.fas            unknown2.fas\r\n"
       ]
      }
     ],
     "prompt_number": 54
    },
    {
     "cell_type": "markdown",
     "metadata": {},
     "source": [
      "Note that I changed the file suffix from `.fas` to `.fasta` on the output files. This isn't necessary but I find that doing so makes it easy to sort through large directories to distinguish generated files from the original files. The `inout_pairs()` function will come in handy when we combine our functions to generate a multi-sequence pipeline.\n",
      "\n",
      "Another new concept I introduced in the for loop above is `try-except` block for exception handling.  The Python starts by executing the code in the `try` clause.  If there are no problems the `except` clause is ignored.  However, if an exception (error) is raised than it evaluates the `except` clause. In this case, our `except` clause says if the error is an exception of type `TranslationError` (defined in `Bio.Data.CodonTable`) then ignore it and just keep working.  However, any other exception will stop program execution, as we haven't included any general error handling code. See Downey, Chap 14 for more discussion of exception handling."
     ]
    },
    {
     "cell_type": "heading",
     "level": 2,
     "metadata": {},
     "source": [
      "BLAST searches via the NCBI server"
     ]
    },
    {
     "cell_type": "markdown",
     "metadata": {},
     "source": [
      "We can use Biopython do network based BLAST searches. Here we will use blastp to search against protein sequences in the Swiss-Prot database."
     ]
    },
    {
     "cell_type": "code",
     "collapsed": false,
     "input": [
      "from Bio.Blast import NCBIWWW, NCBIXML"
     ],
     "language": "python",
     "metadata": {},
     "outputs": [],
     "prompt_number": 174
    },
    {
     "cell_type": "code",
     "collapsed": false,
     "input": [
      "prot1 = SeqIO.read('unknown1-protein.fasta','fasta')"
     ],
     "language": "python",
     "metadata": {},
     "outputs": [],
     "prompt_number": 182
    },
    {
     "cell_type": "code",
     "collapsed": true,
     "input": [
      "# this may take a little while to complete dpeending on how busy the NCBI blast server is\n",
      "results_handle = NCBIWWW.qblast('blastp','swissprot',\n",
      "                                prot1.seq.tostring(), \n",
      "                                entrez_query='(Homo sapiens[ORGN])')"
     ],
     "language": "python",
     "metadata": {},
     "outputs": [],
     "prompt_number": 183
    },
    {
     "cell_type": "code",
     "collapsed": false,
     "input": [
      "results = results_handle.read()"
     ],
     "language": "python",
     "metadata": {},
     "outputs": [],
     "prompt_number": 184
    },
    {
     "cell_type": "code",
     "collapsed": false,
     "input": [
      "type(results)"
     ],
     "language": "python",
     "metadata": {},
     "outputs": [
      {
       "metadata": {},
       "output_type": "pyout",
       "prompt_number": 185,
       "text": [
        "str"
       ]
      }
     ],
     "prompt_number": 185
    },
    {
     "cell_type": "code",
     "collapsed": false,
     "input": [
      "sfile = open('prot1_blast.out','w')"
     ],
     "language": "python",
     "metadata": {},
     "outputs": [],
     "prompt_number": 186
    },
    {
     "cell_type": "code",
     "collapsed": false,
     "input": [
      "sfile.write(results)"
     ],
     "language": "python",
     "metadata": {},
     "outputs": [],
     "prompt_number": 187
    },
    {
     "cell_type": "code",
     "collapsed": false,
     "input": [
      "sfile.close()"
     ],
     "language": "python",
     "metadata": {},
     "outputs": [],
     "prompt_number": 188
    },
    {
     "cell_type": "code",
     "collapsed": false,
     "input": [
      "blast_out = open('prot1_blast.out','r')"
     ],
     "language": "python",
     "metadata": {},
     "outputs": [],
     "prompt_number": 193
    },
    {
     "cell_type": "code",
     "collapsed": false,
     "input": [
      "brec = NCBIXML.read(blast_out)"
     ],
     "language": "python",
     "metadata": {},
     "outputs": [],
     "prompt_number": 194
    },
    {
     "cell_type": "code",
     "collapsed": false,
     "input": [
      "brec"
     ],
     "language": "python",
     "metadata": {},
     "outputs": [
      {
       "metadata": {},
       "output_type": "pyout",
       "prompt_number": 195,
       "text": [
        "<Bio.Blast.Record.Blast at 0x109b4fd90>"
       ]
      }
     ],
     "prompt_number": 195
    },
    {
     "cell_type": "code",
     "collapsed": false,
     "input": [
      "len(brec.alignments)  # we got 50 blast hits in the query"
     ],
     "language": "python",
     "metadata": {},
     "outputs": [
      {
       "metadata": {},
       "output_type": "pyout",
       "prompt_number": 196,
       "text": [
        "50"
       ]
      }
     ],
     "prompt_number": 196
    },
    {
     "cell_type": "code",
     "collapsed": false,
     "input": [
      "brec.alignments[0]"
     ],
     "language": "python",
     "metadata": {},
     "outputs": [
      {
       "metadata": {},
       "output_type": "pyout",
       "prompt_number": 197,
       "text": [
        "<Bio.Blast.Record.Alignment at 0x109b57350>"
       ]
      }
     ],
     "prompt_number": 197
    },
    {
     "cell_type": "code",
     "collapsed": false,
     "input": [
      "brec.alignments[0].accession"
     ],
     "language": "python",
     "metadata": {},
     "outputs": [
      {
       "metadata": {},
       "output_type": "pyout",
       "prompt_number": 198,
       "text": [
        "u'P31749'"
       ]
      }
     ],
     "prompt_number": 198
    },
    {
     "cell_type": "markdown",
     "metadata": {},
     "source": [
      "\n",
      "This code introduces another concept we'll call the *Producer-Consumer* pattern. The Producer-Consumer pattern is a general programming concept, but the key here is that the pattern generalizes the problem of parsing complex biological data types. The producer does the work of getting the information from a file (or from the web in this case). The consumer process the information into a form we can use. In the code above the function `NCBIWWW.qblast()` is the producer and `NCBIXML.read()` plays the role of the consumer. This pattern is used over and over again in Biopython so you should spend some time trying to understand the general idea. See the Biopython tutorial for a more complete discussion.\n",
      "\n",
      "Our BLAST query returned the information in the form of XML data.  XML stands for \"Extensible Markup Language\", and is a generic way to encode documents in machine-readable form.  XML data is usually plain text -- go ahead and open up the file `prot1_blast.out` in a text editor to see the output. Since XML is a generic format, specific types of XML documents need a `schema' or `grammar' that specifies how the document is to be read and interpretted. In the example above, the module `NCBIXML` knows how to handle XML data returned from NCBI, hence our use of the function `NCBIXML.read()`.\n",
      "\n",
      "In the example given, we limited our query to sequences from humans. If we wanted to include all metazoan sequences we could pass `'(Metazoa[ORGN])'` as the argument to `entrez_query`. If we didn't want to limit our search at all we would simply not include that argument (i.e. accept the default). The BLAST output is fairly complicated. See the BioPython tutorial section 7.5 for a complete breakdown of all the fields in the BLAST output."
     ]
    },
    {
     "cell_type": "markdown",
     "metadata": {},
     "source": [
      "Again, the commands above are rather involved so let's wrap them up in a function:"
     ]
    },
    {
     "cell_type": "code",
     "collapsed": false,
     "input": [
      "from Bio.Blast import NCBIWWW, NCBIXML\n",
      "\n",
      "def blastp(seqrec, outfile, database='nr', entrez_query='(none)'):\n",
      "    handle = NCBIWWW.qblast('blastp', database, seqrec.seq.tostring(),\n",
      "    \t\t\t\tentrez_query=entrez_query)\n",
      "    results = handle.read()\n",
      "    sfile = open(outfile, 'w')\n",
      "    sfile.write(results)\n",
      "    sfile.close()\n",
      "    bout = open(outfile, 'r')\n",
      "    brecord = NCBIXML.read(bout)\n",
      "    return brecord\n",
      "\n",
      "def summarize_blastoutput(brecord):\n",
      "    hits = []\n",
      "    for alignment in brecord.alignments:\n",
      "        expect = alignment.hsps[0].expect\n",
      "        accession = alignment.accession\n",
      "        hits.append((expect,accession))\n",
      "    hits.sort() # will sort tuples by their first value (i.e. expect)\n",
      "    return hits"
     ],
     "language": "python",
     "metadata": {},
     "outputs": [],
     "prompt_number": 200
    },
    {
     "cell_type": "markdown",
     "metadata": {},
     "source": [
      "We can use this code as follows:"
     ]
    },
    {
     "cell_type": "code",
     "collapsed": false,
     "input": [
      "humanblast = blastp(prot1, 'prot1-hum-blast.out', \n",
      "                    database='swissprot', \n",
      "                    entrez_query='(Homo sapiens[ORGN])')"
     ],
     "language": "python",
     "metadata": {},
     "outputs": [],
     "prompt_number": 201
    },
    {
     "cell_type": "code",
     "collapsed": false,
     "input": [
      "flyblast = blastp(prot1, 'prot1-fly-blast.out', \n",
      "                  database='swissprot', entrez_query='(Drosophila melanogaster[ORGN])')"
     ],
     "language": "python",
     "metadata": {},
     "outputs": [],
     "prompt_number": 85
    },
    {
     "cell_type": "code",
     "collapsed": false,
     "input": [
      "humanhits = summarize_blastoutput(humanblast)"
     ],
     "language": "python",
     "metadata": {},
     "outputs": [],
     "prompt_number": 202
    },
    {
     "cell_type": "code",
     "collapsed": false,
     "input": [
      "humanhits[0]  # the first number is the E-value for the BLAST search"
     ],
     "language": "python",
     "metadata": {},
     "outputs": [
      {
       "metadata": {},
       "output_type": "pyout",
       "prompt_number": 203,
       "text": [
        "(5.00201e-95, u'P31749')"
       ]
      }
     ],
     "prompt_number": 203
    },
    {
     "cell_type": "code",
     "collapsed": false,
     "input": [
      "print humanhits[0][1]  # prints the swissprot accession number"
     ],
     "language": "python",
     "metadata": {},
     "outputs": [
      {
       "output_type": "stream",
       "stream": "stdout",
       "text": [
        "P31749\n"
       ]
      }
     ],
     "prompt_number": 88
    },
    {
     "cell_type": "code",
     "collapsed": false,
     "input": [
      "flyhits = summarize_blastoutput(flyblast)"
     ],
     "language": "python",
     "metadata": {},
     "outputs": [],
     "prompt_number": 90
    },
    {
     "cell_type": "code",
     "collapsed": false,
     "input": [
      "flyhits[0]"
     ],
     "language": "python",
     "metadata": {},
     "outputs": [
      {
       "metadata": {},
       "output_type": "pyout",
       "prompt_number": 91,
       "text": [
        "(4.17305e-96, u'Q8INB9')"
       ]
      }
     ],
     "prompt_number": 91
    },
    {
     "cell_type": "markdown",
     "metadata": {},
     "source": [
      "Go to the UniProt website( http://www.uniprot.org/) and use the search box to lookup those accession numbers"
     ]
    },
    {
     "cell_type": "heading",
     "level": 3,
     "metadata": {},
     "source": [
      "Getting records from Swiss-Prot"
     ]
    },
    {
     "cell_type": "markdown",
     "metadata": {},
     "source": [
      "For a small number of accession numbers it's easy to use the web interface to UniProt (Swiss-Prot). For hundred of blast hits that's just not an option. Conveniently, we can use Biopython to query the Swiss-Prot database to retrieve information about these presumed orthologs. You can access the Swiss-Prot database as follows:"
     ]
    },
    {
     "cell_type": "code",
     "collapsed": false,
     "input": [
      "from Bio import ExPASy\n",
      "from Bio import SwissProt"
     ],
     "language": "python",
     "metadata": {},
     "outputs": [],
     "prompt_number": 204
    },
    {
     "cell_type": "code",
     "collapsed": false,
     "input": [
      "handle1 = ExPASy.get_sprot_raw(humanhits[0][1]) # access with the accession number"
     ],
     "language": "python",
     "metadata": {},
     "outputs": [],
     "prompt_number": 205
    },
    {
     "cell_type": "code",
     "collapsed": false,
     "input": [
      "rec1 = SwissProt.read(handle1)"
     ],
     "language": "python",
     "metadata": {},
     "outputs": [],
     "prompt_number": 206
    },
    {
     "cell_type": "code",
     "collapsed": false,
     "input": [
      "rec1.description"
     ],
     "language": "python",
     "metadata": {},
     "outputs": [
      {
       "metadata": {},
       "output_type": "pyout",
       "prompt_number": 208,
       "text": [
        "'RecName: Full=RAC-alpha serine/threonine-protein kinase; EC=2.7.11.1; AltName: Full=Protein kinase B; Short=PKB; AltName: Full=Protein kinase B alpha; Short=PKB alpha; AltName: Full=Proto-oncogene c-Akt; AltName: Full=RAC-PK-alpha;'"
       ]
      }
     ],
     "prompt_number": 208
    },
    {
     "cell_type": "code",
     "collapsed": false,
     "input": [
      "print rec1.comments[0][:208], \"....\""
     ],
     "language": "python",
     "metadata": {},
     "outputs": [
      {
       "output_type": "stream",
       "stream": "stdout",
       "text": [
        "FUNCTION: AKT1 is one of 3 closely related serine/threonine- protein kinases (AKT1, AKT2 and AKT3) called the AKT kinase, and which regulate many processes including metabolism, proliferation, cell survival,  ....\n"
       ]
      }
     ],
     "prompt_number": 209
    },
    {
     "cell_type": "code",
     "collapsed": false,
     "input": [
      "print dir(rec1) # lets see what other attributes the record has"
     ],
     "language": "python",
     "metadata": {},
     "outputs": [
      {
       "output_type": "stream",
       "stream": "stdout",
       "text": [
        "['__class__', '__delattr__', '__dict__', '__doc__', '__format__', '__getattribute__', '__hash__', '__init__', '__module__', '__new__', '__reduce__', '__reduce_ex__', '__repr__', '__setattr__', '__sizeof__', '__str__', '__subclasshook__', '__weakref__', 'accessions', 'annotation_update', 'comments', 'created', 'cross_references', 'data_class', 'description', 'entry_name', 'features', 'gene_name', 'host_organism', 'host_taxonomy_id', 'keywords', 'molecule_type', 'organelle', 'organism', 'organism_classification', 'references', 'seqinfo', 'sequence', 'sequence_length', 'sequence_update', 'taxonomy_id']\n"
       ]
      }
     ],
     "prompt_number": 98
    },
    {
     "cell_type": "code",
     "collapsed": false,
     "input": [
      "rec1.gene_name"
     ],
     "language": "python",
     "metadata": {},
     "outputs": [
      {
       "metadata": {},
       "output_type": "pyout",
       "prompt_number": 210,
       "text": [
        "'Name=AKT1; Synonyms=PKB, RAC;'"
       ]
      }
     ],
     "prompt_number": 210
    },
    {
     "cell_type": "code",
     "collapsed": false,
     "input": [
      "rec1.sequence[:25] # first 25 amino acids"
     ],
     "language": "python",
     "metadata": {},
     "outputs": [
      {
       "metadata": {},
       "output_type": "pyout",
       "prompt_number": 212,
       "text": [
        "'MSDVAIVKEGWLHKRGEYIKTWRPR'"
       ]
      }
     ],
     "prompt_number": 212
    },
    {
     "cell_type": "markdown",
     "metadata": {},
     "source": [
      "Here are some functions to make this more convenient:"
     ]
    },
    {
     "cell_type": "code",
     "collapsed": false,
     "input": [
      "from Bio import ExPASy\n",
      "from Bio import SwissProt\n",
      "\n",
      "def get_swissrec(accession):\n",
      "    handle = ExPASy.get_sprot_raw(accession)\n",
      "    record = SwissProt.read(handle)\n",
      "    return record\n",
      "\n",
      "def swissrec2seqrec(record):\n",
      "    seq = Seq.Seq(record.sequence, Seq.IUPAC.protein)\n",
      "    s = SeqRecord.SeqRecord(seq, description=record.description,\n",
      "                id=record.accessions[0], name=record.entry_name)\n",
      "    return s"
     ],
     "language": "python",
     "metadata": {},
     "outputs": [],
     "prompt_number": 101
    },
    {
     "cell_type": "markdown",
     "metadata": {},
     "source": [
      "And here is an example of how we can apply these functions:"
     ]
    },
    {
     "cell_type": "code",
     "collapsed": false,
     "input": [
      "ids = [humanhits[0][1], flyhits[0][1]]"
     ],
     "language": "python",
     "metadata": {},
     "outputs": [],
     "prompt_number": 213
    },
    {
     "cell_type": "code",
     "collapsed": false,
     "input": [
      "ids"
     ],
     "language": "python",
     "metadata": {},
     "outputs": [
      {
       "metadata": {},
       "output_type": "pyout",
       "prompt_number": 214,
       "text": [
        "[u'P31749', u'Q8INB9']"
       ]
      }
     ],
     "prompt_number": 214
    },
    {
     "cell_type": "code",
     "collapsed": false,
     "input": [
      "swissrecs = [get_swissrec(i) for i in ids]"
     ],
     "language": "python",
     "metadata": {},
     "outputs": [],
     "prompt_number": 215
    },
    {
     "cell_type": "code",
     "collapsed": false,
     "input": [
      "seqs = [swissrec2seqrec(i) for i in swissrecs]"
     ],
     "language": "python",
     "metadata": {},
     "outputs": [],
     "prompt_number": 216
    },
    {
     "cell_type": "code",
     "collapsed": false,
     "input": [
      "seqs[0]"
     ],
     "language": "python",
     "metadata": {},
     "outputs": [
      {
       "metadata": {},
       "output_type": "pyout",
       "prompt_number": 217,
       "text": [
        "SeqRecord(seq=Seq('MSDVAIVKEGWLHKRGEYIKTWRPRYFLLKNDGTFIGYKERPQDVDQREAPLNN...GTA', IUPACProtein()), id='P31749', name='AKT1_HUMAN', description='RecName: Full=RAC-alpha serine/threonine-protein kinase; EC=2.7.11.1; AltName: Full=Protein kinase B; Short=PKB; AltName: Full=Protein kinase B alpha; Short=PKB alpha; AltName: Full=Proto-oncogene c-Akt; AltName: Full=RAC-PK-alpha;', dbxrefs=[])"
       ]
      }
     ],
     "prompt_number": 217
    },
    {
     "cell_type": "code",
     "collapsed": false,
     "input": [
      "seqs.append(prot1)  # add our original protein sequence to the list"
     ],
     "language": "python",
     "metadata": {},
     "outputs": [],
     "prompt_number": 218
    },
    {
     "cell_type": "code",
     "collapsed": false,
     "input": [
      "write_fasta(seqs, 'unknown1-plus-human-fly.fasta')"
     ],
     "language": "python",
     "metadata": {},
     "outputs": [],
     "prompt_number": 219
    },
    {
     "cell_type": "heading",
     "level": 2,
     "metadata": {},
     "source": [
      "Multiple sequence alignment via MAFFT"
     ]
    },
    {
     "cell_type": "markdown",
     "metadata": {},
     "source": [
      "We've now generated a new FASTA file that includes our original protein sequence and the sequences for the human and fly BLAST best hits.  We will use MAFFT to perform a multiple alignment. Biopython has built in code to simplify command line usage of common alignment programs like CLUSTALW, MAFFT, and MUSCLE.  However I'll show you how to do this with your own code using the |subprocess| module.  Knowing how the |subprocess| module works is useful because it allows you to interface with any command line program from within Python.\n",
      "\n",
      "The |subprocess| module allows your Python code to start other programs (child processes) and send/get input and output from those same processes. When we use the subprocess module we're putting the Unix design element of `Everything is a file or process' to use. Here's a simple example:"
     ]
    },
    {
     "cell_type": "code",
     "collapsed": false,
     "input": [
      "import subprocess"
     ],
     "language": "python",
     "metadata": {},
     "outputs": [],
     "prompt_number": 109
    },
    {
     "cell_type": "code",
     "collapsed": false,
     "input": [
      "# output is NOT shown in ipython notebook, instead\n",
      "# a return code (0 if the command worked) is shown\n",
      "subprocess.call([\"ls\",\"-l\"])"
     ],
     "language": "python",
     "metadata": {},
     "outputs": [
      {
       "metadata": {},
       "output_type": "pyout",
       "prompt_number": 110,
       "text": [
        "0"
       ]
      }
     ],
     "prompt_number": 110
    },
    {
     "cell_type": "markdown",
     "metadata": {},
     "source": [
      "The above code uses a convenience function `call()` in the `subprocess` module. We'll use the same function to run MAFFT:"
     ]
    },
    {
     "cell_type": "code",
     "collapsed": false,
     "input": [
      "import subprocess\n",
      "\n",
      "def mafft_align(infile, outfile):\n",
      "    ofile = open(outfile,'w')\n",
      "    retcode = subprocess.call([\"mafft\",infile], stdout=ofile)\n",
      "    ofile.close()\n",
      "    if retcode != 0:\n",
      "        raise Exception(\"Possible error in MAFFT alignment\")"
     ],
     "language": "python",
     "metadata": {},
     "outputs": [],
     "prompt_number": 220
    },
    {
     "cell_type": "code",
     "collapsed": false,
     "input": [
      "mafft_align('unknown1-plus-human-fly.fasta', 'unknown1-alignment.fasta')"
     ],
     "language": "python",
     "metadata": {},
     "outputs": [],
     "prompt_number": 221
    },
    {
     "cell_type": "markdown",
     "metadata": {},
     "source": [
      "If all went well this should have created the file `unknown1-alignment.fasta` in your directory.  Open this alignment using JalView to examine the alignment in more detail."
     ]
    },
    {
     "cell_type": "heading",
     "level": 2,
     "metadata": {},
     "source": [
      "Putting it all together"
     ]
    },
    {
     "cell_type": "markdown",
     "metadata": {},
     "source": [
      "We've generated a variety of functions that take care of the major steps of our pipeline. It's time to put the steps together to automate the entire process."
     ]
    },
    {
     "cell_type": "code",
     "collapsed": false,
     "input": [
      "def oneseq_pipeline(infilename, pfamdb=None,\n",
      "                    compareto=['Homo sapiens','Drosophila melanogaster'],\n",
      "                    extension=\"XX\"):\n",
      "    # translate nucleotide sequence to protein seq\n",
      "    protout = 'protein-' + infilename + extension\n",
      "                # add the extension so all generated files have\n",
      "                # different extension than input files\n",
      "\n",
      "    translate_fasta(infilename, protout)\n",
      "\n",
      "    # run blastp on protein sequence against swissprot and extract best hits\n",
      "    protrec = parse_fasta(protout)[0]\n",
      "    blastout ='blast-' + protout\n",
      "    besthitids = []\n",
      "    for organism in compareto:\n",
      "        equery = '(%s[ORGN])' % organism # create the entrez organism query\n",
      "        brecord = blastp(protrec, blastout, database='swissprot', entrez_query=equery)\n",
      "        bhits = summarize_blastoutput(brecord)\n",
      "        besthitids.append(bhits[0][1])\n",
      "\n",
      "    # download corresponding records from Swiss-Prot\n",
      "    swissrecs = [get_swissrec(i) for i in besthitids]\n",
      "    seqs = [swissrec2seqrec(i) for i in swissrecs]\n",
      "    seqs.append(protrec)\n",
      "\n",
      "    # write FASTA file with best hits plus original protein sequence\n",
      "    plusout = 'blasthits-' + protout + '.XML'\n",
      "    write_fasta(seqs, plusout)\n",
      "\n",
      "    # do multiple alignment via mafft\n",
      "    mafft_align(plusout, 'aligned-' + protout)\n"
     ],
     "language": "python",
     "metadata": {},
     "outputs": [],
     "prompt_number": 114
    },
    {
     "cell_type": "markdown",
     "metadata": {},
     "source": [
      "Our function can take as input a FASTA file with a single sequence or with multiple sequences. In the case of a multiple sequences it assumes that the \"target\" sequence for the search is the first sequence in the file. "
     ]
    },
    {
     "cell_type": "heading",
     "level": 3,
     "metadata": {},
     "source": [
      "Testing out the pipeline"
     ]
    },
    {
     "cell_type": "markdown",
     "metadata": {},
     "source": [
      "To test out the function we do:"
     ]
    },
    {
     "cell_type": "code",
     "collapsed": false,
     "input": [
      "oneseq_pipeline('unknown1.fas')"
     ],
     "language": "python",
     "metadata": {},
     "outputs": []
    },
    {
     "cell_type": "markdown",
     "metadata": {},
     "source": [
      "This will create four new FASTA files:\n",
      "\n",
      "1. `protein-unknown1.fasXX`\n",
      "1. `blast-protein-unknown1.fasXX.XML`\n",
      "1. `blasthits-protein-unknown1.fasXX`\n",
      "1. `aligned-protein-unknown1.fasXX`\n",
      "\n",
      "\n",
      "These respectively contain:\n",
      "\n",
      "1. the amino acid sequence translated from the nucleotide sequence given as input\n",
      "1. the XML output of the qblast query to NCBI\n",
      "1. the amino acid sequences for the BLAST hits returned from NCBI\n",
      "1. the MAFFT multiple alignment of the protein sequences.\n"
     ]
    },
    {
     "cell_type": "markdown",
     "metadata": {},
     "source": [
      "Let's now test the pipeline using an alternate set organisms:"
     ]
    },
    {
     "cell_type": "code",
     "collapsed": false,
     "input": [
      "oneseq_pipeline('unknown1.fas', compareto=[\"Homo sapiens\",\"Mus musculus\",\"Caenorhabditis elegans\"])"
     ],
     "language": "python",
     "metadata": {},
     "outputs": [],
     "prompt_number": 115
    },
    {
     "cell_type": "heading",
     "level": 2,
     "metadata": {},
     "source": [
      "Extending the pipeline to deal with multiple inputs"
     ]
    },
    {
     "cell_type": "markdown",
     "metadata": {},
     "source": [
      "Now that we're confident out single sequence pipeline function works it can be easily adapted to deal with multiple input files:"
     ]
    },
    {
     "cell_type": "code",
     "collapsed": false,
     "input": [
      "def multiseq_pipeline(inext, pfamdb=None,\n",
      "                compareto=['Homo sapiens','Drosophila melanogaster']):\n",
      "    inout = inout_pairs(inext, 'XX')\n",
      "    infiles = [i[0] for i in inout]\n",
      "    for filename in infiles:\n",
      "        print \"Processing %s\" % filename\n",
      "        oneseq_pipeline(filename, pfamdb, compareto)"
     ],
     "language": "python",
     "metadata": {},
     "outputs": []
    },
    {
     "cell_type": "markdown",
     "metadata": {},
     "source": [
      "To test the complete multi-sequence pipeline delete all the generated files (so that only  `unknown1.fas` and `unknown2.fas` are in the unknowns directory) and try the following:"
     ]
    },
    {
     "cell_type": "code",
     "collapsed": false,
     "input": [
      "multiseq_pipeline('.fas')"
     ],
     "language": "python",
     "metadata": {},
     "outputs": []
    },
    {
     "cell_type": "markdown",
     "metadata": {},
     "source": [
      "There are a number of ways the pipeline could be sped up. One obvious improvement would be to utilize a local installation of BLAST and the respective databases. However, optimization is often a complex task. The pipeline we developed here doesn't require us to install BLAST (which can be somewhat involved) and provides adequate performance for a modest number of sequences. It is possible to turn this set of Python functions into a program that you could run from the command line (rather than the Python interpeter) just like any other Unix program."
     ]
    },
    {
     "cell_type": "heading",
     "level": 2,
     "metadata": {},
     "source": [
      "The pipeline.py module"
     ]
    },
    {
     "cell_type": "markdown",
     "metadata": {},
     "source": [
      "Here is the complete code listing for the |pipeline.py| module."
     ]
    },
    {
     "cell_type": "code",
     "collapsed": false,
     "input": [
      "\"\"\"\n",
      "pipline.py --  An illustrative example of a bioinformatics pipeline.\n",
      "Requires Python 2.6+ and BioPython 1.53+\n",
      "(c) Copyright by Paul M. Magwene, 2009-2011  (mailto:paul.magwene@duke.edu)\n",
      "\"\"\"\n",
      "\n",
      "from Bio import Seq, SeqIO, SeqRecord\n",
      "from Bio import ExPASy, SwissProt\n",
      "from Bio.Blast import NCBIWWW, NCBIXML\n",
      "    \n",
      "import glob, subprocess\n",
      "\n",
      "def read_fasta(infile):\n",
      "    \"\"\"Read a single sequence from a FASTA file\"\"\"\n",
      "    rec = SeqIO.read(infile,'fasta')\n",
      "    return rec\n",
      "\n",
      "def parse_fasta(infile):\n",
      "    \"\"\"Read multiple sequences from a FASTA file\"\"\"\n",
      "    recs = SeqIO.parse(infile,'fasta')\n",
      "    return [i for i in recs] \n",
      "    \n",
      "def write_fasta(recs, outfile):\n",
      "    ofile = open(outfile, 'w')\n",
      "    SeqIO.write(recs, ofile, 'fasta')    \n",
      "    \n",
      "def translate_recs(seqrecs):\n",
      "    \"\"\" nucleotide SeqRecords -> translated protein SeqRecords \"\"\" \n",
      "    proteins = []\n",
      "    for rec in seqrecs:\n",
      "        aaseq = rec.seq.translate()\n",
      "        protrec = SeqRecord.SeqRecord(aaseq, id=rec.id, name=rec.name, \n",
      "        \t\t\t      description=rec.description)\n",
      "        proteins.append(protrec)\n",
      "    return proteins    \n",
      "    \n",
      "def translate_fasta(infile, outfile):\n",
      "    \"\"\" nucleotide fasta file -> protein fasta file \"\"\"\n",
      "    nrecs = parse_fasta(infile)\n",
      "    precs = translate_recs(nrecs)\n",
      "    write_fasta(precs, outfile)    \n",
      "\n",
      "def inout_pairs(insuffix, outsuffix):\n",
      "    \"\"\" Files in directory with given suffix -> list of tuples w/ (infile,outfile)\"\"\"\n",
      "    infiles = glob.glob('*'+insuffix)\n",
      "    pairs = []\n",
      "    for infile in infiles:\n",
      "        inprefix = infile[:-len(insuffix)]\n",
      "        outfile = inprefix + outsuffix\n",
      "        pairs.append((infile,outfile))\n",
      "    return pairs     \n",
      "    \n",
      "def blastp(seqrec, outfile, database='nr', entrez_query='(none)'):\n",
      "    handle = NCBIWWW.qblast('blastp', database, seqrec.seq.tostring(), \n",
      "    \t\t\t\tentrez_query=entrez_query)\n",
      "    results = handle.read()\n",
      "    sfile = open(outfile, 'w')\n",
      "    sfile.write(results)\n",
      "    sfile.close()   \n",
      "    bout = open(outfile, 'r')\n",
      "    brecord = NCBIXML.read(bout)    \n",
      "    return brecord\n",
      "\n",
      "def summarize_blastoutput(brecord):\n",
      "    hits = []\n",
      "    for alignment in brecord.alignments:\n",
      "        expect = alignment.hsps[0].expect\n",
      "        accession = alignment.accession\n",
      "        hits.append((expect,accession))\n",
      "    hits.sort() # will sort tuples by their first value (i.e. expect)\n",
      "    return hits       \n",
      "\n",
      "def get_swissrec(accession):\n",
      "    handle = ExPASy.get_sprot_raw(accession)\n",
      "    record = SwissProt.read(handle)\n",
      "    return record\n",
      "    \n",
      "def swissrec2seqrec(record):\n",
      "    seq = Seq.Seq(record.sequence, Seq.IUPAC.protein)\n",
      "    s = SeqRecord.SeqRecord(seq, description=record.description, \n",
      "                id=record.accessions[0], name=record.entry_name)\n",
      "    return s             \n",
      "\n",
      "def mafft_align(infile, outfile):\n",
      "    ofile = open(outfile,'w')\n",
      "    retcode = subprocess.call([\"mafft\",infile], stdout=ofile)\n",
      "    ofile.close()\n",
      "    if retcode != 0:\n",
      "        raise Exception(\"Possible error in MAFFT alignment\")    \n",
      "        \n",
      "def hmmer_pfam(infilename, outfilename, pfamdb):\n",
      "    pipe = subprocess.Popen([\"hmmscan\", pfamdb, infilename], \n",
      "            stdout=subprocess.PIPE).stdout\n",
      "    output = pipe.read() # this gives us the output of our command\n",
      "    outfile = open(outfilename, 'w')\n",
      "    outfile.write(output)\n",
      "    outfile.close()\n",
      "    \n",
      "def oneseq_pipeline(infilename, pfamdb=None,\n",
      "                    compareto=['Homo sapiens','Drosophila melanogaster'],\n",
      "                    extension=\"XX\"):\n",
      "    # translate nucleotide sequence to protein seq\n",
      "    protout = 'protein-' + infilename + extension     \n",
      "                # add the extension so all generated files have\n",
      "                # different extension than input files\n",
      "                \n",
      "    translate_fasta(infilename, protout)\n",
      "    \n",
      "    # run blastp on protein sequence against swissprot and extract best hits\n",
      "    protrec = parse_fasta(protout)[0]        \n",
      "    blastout ='blast-' + protout + '.XML'        \n",
      "    besthitids = []\n",
      "    for organism in compareto:\n",
      "        equery = '(%s[ORGN])' % organism # create the entrez organism query\n",
      "        brecord = blastp(protrec, blastout, database='swissprot', entrez_query=equery)\n",
      "        bhits = summarize_blastoutput(brecord)\n",
      "        besthitids.append(bhits[0][1])\n",
      "\n",
      "    # download corresponding records from Swiss-Prot\n",
      "    swissrecs = [get_swissrec(i) for i in besthitids]\n",
      "    seqs = [swissrec2seqrec(i) for i in swissrecs]\n",
      "    seqs.append(protrec)    \n",
      "    \n",
      "    # write Fasta file with best hits plus original protein sequence\n",
      "    plusout = 'blasthits-' + protout\n",
      "    write_fasta(seqs, plusout)     \n",
      "    \n",
      "    # do multiple alignment via mafft\n",
      "    mafft_align(plusout, 'aligned-' + protout)\n",
      "\n",
      "\n",
      "\n",
      "def multiseq_pipeline(inext, pfamdb=None, \n",
      "                compareto=['Homo sapiens','Drosophila melanogaster']):   \n",
      "    inout = inout_pairs(inext, 'XX')\n",
      "    infiles = [i[0] for i in inout]\n",
      "    for filename in infiles:\n",
      "        print \"Processing %s\" % filename\n",
      "        oneseq_pipeline(filename, pfamdb, compareto)                          "
     ],
     "language": "python",
     "metadata": {},
     "outputs": [],
     "prompt_number": 167
    },
    {
     "cell_type": "code",
     "collapsed": false,
     "input": [],
     "language": "python",
     "metadata": {},
     "outputs": []
    }
   ],
   "metadata": {}
  }
 ]
}