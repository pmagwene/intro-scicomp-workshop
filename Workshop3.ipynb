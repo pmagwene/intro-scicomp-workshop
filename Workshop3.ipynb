{
 "metadata": {
  "name": ""
 },
 "nbformat": 3,
 "nbformat_minor": 0,
 "worksheets": [
  {
   "cells": [
    {
     "cell_type": "markdown",
     "metadata": {},
     "source": [
      "## Files and URL Links\n",
      "\n",
      "* Link to course wiki (as tiny URL) -- http://tinyurl.com/intro-sci-comp\n",
      "\n",
      "\n",
      "* VM Manage site -- https://vm-manage.oit.duke.edu/\n",
      "\n",
      "\n",
      "* Granek et al. 2013\n",
      "    - Granek JA, Murray D, Kayrk\u00e7i \u00d6, Magwene PM. The genetic architecture of biofilm formation in a clinical isolate of Saccharomyces cerevisiae. Genetics. 2013 Feb;193(2):587-600. doi: 10.1534/genetics.112.142067. Epub 2012 Nov 19. PubMed PMID: 23172850; PubMed Central PMCID: PMC3567746. http://www.genetics.org/content/193/2/587.full\n",
      "    \n",
      "    - Data from Granek et al. 2013 publication -- http://datadryad.org/resource/doi:10.5061/dryad.mn71g\n",
      "    \n"
     ]
    },
    {
     "cell_type": "markdown",
     "metadata": {},
     "source": [
      "## References on Reproducible Computational Research\n",
      "\n",
      "* Peng RD. Reproducible research and Biostatistics. Biostatistics. 2009. Jul;10(3):405-8. doi: 10.1093/biostatistics/kxp014. PubMed PMID: 19535325. http://dx.doi.org/10.1093/biostatistics/kxp014\n",
      "\n",
      "* Sandve GK, Nekrutenko A, Taylor J, Hovig E. Ten simple rules for reproducible  computational research. PLoS Comput Biol. 2013. Oct;9(10):e1003285. doi:10.1371/journal.pcbi.1003285. Epub 2013 Oct 24. PubMed PMID: 24204232; PubMed Central PMCID: PMC3812051. http://dx.doi.org/10.1371/journal.pcbi.1003285\n",
      "\n"
     ]
    },
    {
     "cell_type": "markdown",
     "metadata": {},
     "source": [
      "# Sandve et al. 2013, Simple Rules\n",
      "\n",
      "Rule 1: For Every Result, Keep Track of How It Was Produced\n",
      "\n",
      "Rule 2: Avoid Manual Data Manipulation Steps\n",
      "\n",
      "Rule 3: Archive the Exact Versions of All External Programs Used\n",
      "\n",
      "Rule 4: Version Control All Custom Scripts\n",
      "\n",
      "Rule 5: Record All Intermediate Results, When Possible in Standardized Formats\n",
      "\n",
      "Rule 6: For Analyses That Include Randomness, Note Underlying Random Seeds\n",
      "\n",
      "Rule 7: Always Store Raw Data behind Plots\n",
      "\n",
      "Rule 8: Generate Hierarchical Analysis Output, Allowing Layers of Increasing Detail to Be Inspected\n",
      "\n",
      "Rule 9: Connect Textual Statements to Underlying Results\n",
      "\n",
      "Rule 10: Provide Public Access to Scripts, Runs, and Results"
     ]
    },
    {
     "cell_type": "markdown",
     "metadata": {},
     "source": [
      "## Rule 1: For Every Result, Keep Track of How It Was Produced"
     ]
    },
    {
     "cell_type": "markdown",
     "metadata": {},
     "source": [
      "This is a reanalysis of data published in Granek et al. 2013. Our goal is to reproduce Fig. 4 and supplementary figure S6."
     ]
    },
    {
     "cell_type": "markdown",
     "metadata": {},
     "source": [
      "### Data retrieval"
     ]
    },
    {
     "cell_type": "code",
     "collapsed": false,
     "input": [
      "## use wget to download the \"seg_strain_table.csv\" file from Dryad\n",
      "\n",
      "!wget http://datadryad.org/bitstream/handle/10255/dryad.43938/seg_strain_table.csv?sequence=1 -O seg_strain_table.csv"
     ],
     "language": "python",
     "metadata": {},
     "outputs": [
      {
       "output_type": "stream",
       "stream": "stdout",
       "text": [
        "--2014-04-11 13:34:23--  http://datadryad.org/bitstream/handle/10255/dryad.43938/seg_strain_table.csv?sequence=1\r\n",
        "Resolving datadryad.org... 152.14.136.60\r\n",
        "Connecting to datadryad.org|152.14.136.60|:80... connected.\r\n",
        "HTTP request sent, awaiting response... "
       ]
      },
      {
       "output_type": "stream",
       "stream": "stdout",
       "text": [
        "200 OK\r\n",
        "Length: 5365 (5.2K) [text/csv]\r\n",
        "Saving to: \u2018seg_strain_table.csv\u2019\r\n",
        "\r\n",
        "\r",
        " 0% [                                       ] 0           --.-K/s              \r",
        "100%[======================================>] 5,365       --.-K/s   in 0.001s  \r\n",
        "\r\n",
        "2014-04-11 13:34:23 (3.42 MB/s) - \u2018seg_strain_table.csv\u2019 saved [5365/5365]\r\n",
        "\r\n"
       ]
      }
     ],
     "prompt_number": 191
    },
    {
     "cell_type": "markdown",
     "metadata": {},
     "source": [
      "### Import data for analysis and do some basic exploration"
     ]
    },
    {
     "cell_type": "code",
     "collapsed": false,
     "input": [
      "import pandas as pd  # the Pandas library provides a convenient data frame objects\n",
      "\n",
      "# define data source for this analysis\n",
      "datafile = 'seg_strain_table.csv'"
     ],
     "language": "python",
     "metadata": {},
     "outputs": [],
     "prompt_number": 192
    },
    {
     "cell_type": "code",
     "collapsed": false,
     "input": [
      "# read in the csv file\n",
      "data = pd.read_csv(datafile, index_col=0)"
     ],
     "language": "python",
     "metadata": {},
     "outputs": [],
     "prompt_number": 229
    },
    {
     "cell_type": "code",
     "collapsed": false,
     "input": [
      "# checkout the shape of the data frame, use the head() function\n",
      "data.shape"
     ],
     "language": "python",
     "metadata": {},
     "outputs": [
      {
       "metadata": {},
       "output_type": "pyout",
       "prompt_number": 194,
       "text": [
        "(70, 13)"
       ]
      }
     ],
     "prompt_number": 194
    },
    {
     "cell_type": "code",
     "collapsed": false,
     "input": [
      "data.head()"
     ],
     "language": "python",
     "metadata": {},
     "outputs": [
      {
       "html": [
        "<div style=\"max-height:1000px;max-width:1500px;overflow:auto;\">\n",
        "<table border=\"1\" class=\"dataframe\">\n",
        "  <thead>\n",
        "    <tr style=\"text-align: right;\">\n",
        "      <th></th>\n",
        "      <th>Segregant</th>\n",
        "      <th>Pool</th>\n",
        "      <th>Cyr1.geno</th>\n",
        "      <th>Flo11.geno</th>\n",
        "      <th>CM.a</th>\n",
        "      <th>CM.b</th>\n",
        "      <th>CM.c</th>\n",
        "      <th>cAMP</th>\n",
        "      <th>Cyr1.expr</th>\n",
        "      <th>Flo11.expr</th>\n",
        "      <th>Adhes.a</th>\n",
        "      <th>Adhes.b</th>\n",
        "      <th>Adhes.c</th>\n",
        "    </tr>\n",
        "    <tr>\n",
        "      <th>Strain</th>\n",
        "      <th></th>\n",
        "      <th></th>\n",
        "      <th></th>\n",
        "      <th></th>\n",
        "      <th></th>\n",
        "      <th></th>\n",
        "      <th></th>\n",
        "      <th></th>\n",
        "      <th></th>\n",
        "      <th></th>\n",
        "      <th></th>\n",
        "      <th></th>\n",
        "      <th></th>\n",
        "    </tr>\n",
        "  </thead>\n",
        "  <tbody>\n",
        "    <tr>\n",
        "      <th>PMY1235</th>\n",
        "      <td> s1</td>\n",
        "      <td> S</td>\n",
        "      <td> S</td>\n",
        "      <td> S</td>\n",
        "      <td> 1</td>\n",
        "      <td> 1</td>\n",
        "      <td> 1</td>\n",
        "      <td> 194.38</td>\n",
        "      <td> 1438</td>\n",
        "      <td>   2035</td>\n",
        "      <td> 0.0987</td>\n",
        "      <td> 0.1035</td>\n",
        "      <td> 0.1087</td>\n",
        "    </tr>\n",
        "    <tr>\n",
        "      <th>PMY1236</th>\n",
        "      <td> s2</td>\n",
        "      <td> S</td>\n",
        "      <td> S</td>\n",
        "      <td> S</td>\n",
        "      <td> 1</td>\n",
        "      <td> 1</td>\n",
        "      <td> 1</td>\n",
        "      <td> 238.86</td>\n",
        "      <td> 1410</td>\n",
        "      <td>    696</td>\n",
        "      <td> 0.0903</td>\n",
        "      <td> 0.1352</td>\n",
        "      <td> 0.1022</td>\n",
        "    </tr>\n",
        "    <tr>\n",
        "      <th>PMY1237</th>\n",
        "      <td> s3</td>\n",
        "      <td> S</td>\n",
        "      <td> S</td>\n",
        "      <td> S</td>\n",
        "      <td> 1</td>\n",
        "      <td> 1</td>\n",
        "      <td> 1</td>\n",
        "      <td> 245.32</td>\n",
        "      <td> 1292</td>\n",
        "      <td> 143961</td>\n",
        "      <td> 0.0870</td>\n",
        "      <td> 0.2564</td>\n",
        "      <td> 0.2591</td>\n",
        "    </tr>\n",
        "    <tr>\n",
        "      <th>PMY1238</th>\n",
        "      <td> s4</td>\n",
        "      <td> S</td>\n",
        "      <td> S</td>\n",
        "      <td> S</td>\n",
        "      <td> 1</td>\n",
        "      <td> 1</td>\n",
        "      <td> 1</td>\n",
        "      <td> 222.58</td>\n",
        "      <td> 1814</td>\n",
        "      <td>  10077</td>\n",
        "      <td> 0.0470</td>\n",
        "      <td> 0.1497</td>\n",
        "      <td> 0.1119</td>\n",
        "    </tr>\n",
        "    <tr>\n",
        "      <th>PMY1239</th>\n",
        "      <td> s5</td>\n",
        "      <td> S</td>\n",
        "      <td> S</td>\n",
        "      <td> S</td>\n",
        "      <td> 1</td>\n",
        "      <td> 1</td>\n",
        "      <td> 1</td>\n",
        "      <td> 168.99</td>\n",
        "      <td> 1204</td>\n",
        "      <td>  11281</td>\n",
        "      <td> 0.1522</td>\n",
        "      <td> 0.1735</td>\n",
        "      <td> 0.1511</td>\n",
        "    </tr>\n",
        "  </tbody>\n",
        "</table>\n",
        "<p>5 rows \u00d7 13 columns</p>\n",
        "</div>"
       ],
       "metadata": {},
       "output_type": "pyout",
       "prompt_number": 195,
       "text": [
        "        Segregant Pool Cyr1.geno Flo11.geno  CM.a  CM.b  CM.c    cAMP  \\\n",
        "Strain                                                                  \n",
        "PMY1235        s1    S         S          S     1     1     1  194.38   \n",
        "PMY1236        s2    S         S          S     1     1     1  238.86   \n",
        "PMY1237        s3    S         S          S     1     1     1  245.32   \n",
        "PMY1238        s4    S         S          S     1     1     1  222.58   \n",
        "PMY1239        s5    S         S          S     1     1     1  168.99   \n",
        "\n",
        "         Cyr1.expr  Flo11.expr  Adhes.a  Adhes.b  Adhes.c  \n",
        "Strain                                                     \n",
        "PMY1235       1438        2035   0.0987   0.1035   0.1087  \n",
        "PMY1236       1410         696   0.0903   0.1352   0.1022  \n",
        "PMY1237       1292      143961   0.0870   0.2564   0.2591  \n",
        "PMY1238       1814       10077   0.0470   0.1497   0.1119  \n",
        "PMY1239       1204       11281   0.1522   0.1735   0.1511  \n",
        "\n",
        "[5 rows x 13 columns]"
       ]
      }
     ],
     "prompt_number": 195
    },
    {
     "cell_type": "code",
     "collapsed": false,
     "input": [
      "# access the \"Flo11.expr\" column in the data frame, note the NaN entries\n",
      "data['Flo11.expr']"
     ],
     "language": "python",
     "metadata": {},
     "outputs": [
      {
       "metadata": {},
       "output_type": "pyout",
       "prompt_number": 196,
       "text": [
        "Strain\n",
        "PMY1235      2035\n",
        "PMY1236       696\n",
        "PMY1237    143961\n",
        "PMY1238     10077\n",
        "PMY1239     11281\n",
        "PMY1240     11729\n",
        "PMY1241    112014\n",
        "PMY1242    160390\n",
        "PMY1243     35037\n",
        "PMY1244     16110\n",
        "PMY1245     21117\n",
        "PMY1246     69004\n",
        "PMY1247      1246\n",
        "PMY1248     11573\n",
        "PMY1249    134342\n",
        "...\n",
        "PMY1290    389498\n",
        "PMY1291    147237\n",
        "PMY1292    171374\n",
        "PMY1293    238578\n",
        "PMY1294    136993\n",
        "PMY1324       NaN\n",
        "PMY1325       NaN\n",
        "PMY1326       NaN\n",
        "PMY1327       NaN\n",
        "PMY1328       NaN\n",
        "PMY1329    205256\n",
        "PMY1330       NaN\n",
        "PMY1331       NaN\n",
        "PMY1332       NaN\n",
        "PMY1333       NaN\n",
        "Name: Flo11.expr, Length: 70, dtype: float64"
       ]
      }
     ],
     "prompt_number": 196
    },
    {
     "cell_type": "code",
     "collapsed": false,
     "input": [
      "# count the missing values using isnull() and sum\n",
      "data['Flo11.expr'].isnull().sum()"
     ],
     "language": "python",
     "metadata": {},
     "outputs": [
      {
       "metadata": {},
       "output_type": "pyout",
       "prompt_number": 197,
       "text": [
        "10"
       ]
      }
     ],
     "prompt_number": 197
    },
    {
     "cell_type": "code",
     "collapsed": false,
     "input": [
      "# count the missing values for all variables\n",
      "data.isnull().sum()"
     ],
     "language": "python",
     "metadata": {},
     "outputs": [
      {
       "metadata": {},
       "output_type": "pyout",
       "prompt_number": 198,
       "text": [
        "Segregant      0\n",
        "Pool           0\n",
        "Cyr1.geno      0\n",
        "Flo11.geno     2\n",
        "CM.a           0\n",
        "CM.b           0\n",
        "CM.c           0\n",
        "cAMP           2\n",
        "Cyr1.expr     10\n",
        "Flo11.expr    10\n",
        "Adhes.a        0\n",
        "Adhes.b        0\n",
        "Adhes.c        0\n",
        "dtype: int64"
       ]
      }
     ],
     "prompt_number": 198
    },
    {
     "cell_type": "code",
     "collapsed": false,
     "input": [
      "# use the describe() method \n",
      "data.describe()"
     ],
     "language": "python",
     "metadata": {},
     "outputs": [
      {
       "html": [
        "<div style=\"max-height:1000px;max-width:1500px;overflow:auto;\">\n",
        "<table border=\"1\" class=\"dataframe\">\n",
        "  <thead>\n",
        "    <tr style=\"text-align: right;\">\n",
        "      <th></th>\n",
        "      <th>CM.a</th>\n",
        "      <th>CM.b</th>\n",
        "      <th>CM.c</th>\n",
        "      <th>cAMP</th>\n",
        "      <th>Cyr1.expr</th>\n",
        "      <th>Flo11.expr</th>\n",
        "      <th>Adhes.a</th>\n",
        "      <th>Adhes.b</th>\n",
        "      <th>Adhes.c</th>\n",
        "    </tr>\n",
        "  </thead>\n",
        "  <tbody>\n",
        "    <tr>\n",
        "      <th>count</th>\n",
        "      <td> 70.000000</td>\n",
        "      <td> 70.000000</td>\n",
        "      <td> 70.000000</td>\n",
        "      <td>  68.000000</td>\n",
        "      <td>   60.000000</td>\n",
        "      <td>     60.000000</td>\n",
        "      <td> 70.000000</td>\n",
        "      <td> 70.000000</td>\n",
        "      <td> 70.000000</td>\n",
        "    </tr>\n",
        "    <tr>\n",
        "      <th>mean</th>\n",
        "      <td>  2.317143</td>\n",
        "      <td>  2.277143</td>\n",
        "      <td>  2.321429</td>\n",
        "      <td> 216.205588</td>\n",
        "      <td> 1950.550000</td>\n",
        "      <td> 160768.016667</td>\n",
        "      <td>  0.246070</td>\n",
        "      <td>  0.417247</td>\n",
        "      <td>  0.436923</td>\n",
        "    </tr>\n",
        "    <tr>\n",
        "      <th>std</th>\n",
        "      <td>  1.364028</td>\n",
        "      <td>  1.313274</td>\n",
        "      <td>  1.393244</td>\n",
        "      <td>  48.036001</td>\n",
        "      <td>  661.485858</td>\n",
        "      <td> 149635.089913</td>\n",
        "      <td>  0.198075</td>\n",
        "      <td>  0.381813</td>\n",
        "      <td>  0.393056</td>\n",
        "    </tr>\n",
        "    <tr>\n",
        "      <th>min</th>\n",
        "      <td>  1.000000</td>\n",
        "      <td>  1.000000</td>\n",
        "      <td>  1.000000</td>\n",
        "      <td> 110.490000</td>\n",
        "      <td> 1020.000000</td>\n",
        "      <td>    696.000000</td>\n",
        "      <td>  0.047000</td>\n",
        "      <td>  0.103500</td>\n",
        "      <td>  0.094200</td>\n",
        "    </tr>\n",
        "    <tr>\n",
        "      <th>25%</th>\n",
        "      <td>  1.000000</td>\n",
        "      <td>  1.000000</td>\n",
        "      <td>  1.000000</td>\n",
        "      <td> 183.242500</td>\n",
        "      <td> 1433.000000</td>\n",
        "      <td>  27131.750000</td>\n",
        "      <td>  0.091350</td>\n",
        "      <td>  0.176250</td>\n",
        "      <td>  0.185175</td>\n",
        "    </tr>\n",
        "    <tr>\n",
        "      <th>50%</th>\n",
        "      <td>  1.950000</td>\n",
        "      <td>  1.950000</td>\n",
        "      <td>  1.200000</td>\n",
        "      <td> 208.245000</td>\n",
        "      <td> 1816.000000</td>\n",
        "      <td> 148259.500000</td>\n",
        "      <td>  0.151050</td>\n",
        "      <td>  0.226600</td>\n",
        "      <td>  0.282150</td>\n",
        "    </tr>\n",
        "    <tr>\n",
        "      <th>75%</th>\n",
        "      <td>  3.600000</td>\n",
        "      <td>  3.500000</td>\n",
        "      <td>  3.700000</td>\n",
        "      <td> 254.102500</td>\n",
        "      <td> 2345.250000</td>\n",
        "      <td> 228876.750000</td>\n",
        "      <td>  0.405450</td>\n",
        "      <td>  0.516650</td>\n",
        "      <td>  0.491625</td>\n",
        "    </tr>\n",
        "    <tr>\n",
        "      <th>max</th>\n",
        "      <td>  4.600000</td>\n",
        "      <td>  4.300000</td>\n",
        "      <td>  4.600000</td>\n",
        "      <td> 324.840000</td>\n",
        "      <td> 4043.000000</td>\n",
        "      <td> 688493.000000</td>\n",
        "      <td>  0.758400</td>\n",
        "      <td>  1.593100</td>\n",
        "      <td>  1.696100</td>\n",
        "    </tr>\n",
        "  </tbody>\n",
        "</table>\n",
        "<p>8 rows \u00d7 9 columns</p>\n",
        "</div>"
       ],
       "metadata": {},
       "output_type": "pyout",
       "prompt_number": 199,
       "text": [
        "            CM.a       CM.b       CM.c        cAMP    Cyr1.expr  \\\n",
        "count  70.000000  70.000000  70.000000   68.000000    60.000000   \n",
        "mean    2.317143   2.277143   2.321429  216.205588  1950.550000   \n",
        "std     1.364028   1.313274   1.393244   48.036001   661.485858   \n",
        "min     1.000000   1.000000   1.000000  110.490000  1020.000000   \n",
        "25%     1.000000   1.000000   1.000000  183.242500  1433.000000   \n",
        "50%     1.950000   1.950000   1.200000  208.245000  1816.000000   \n",
        "75%     3.600000   3.500000   3.700000  254.102500  2345.250000   \n",
        "max     4.600000   4.300000   4.600000  324.840000  4043.000000   \n",
        "\n",
        "          Flo11.expr    Adhes.a    Adhes.b    Adhes.c  \n",
        "count      60.000000  70.000000  70.000000  70.000000  \n",
        "mean   160768.016667   0.246070   0.417247   0.436923  \n",
        "std    149635.089913   0.198075   0.381813   0.393056  \n",
        "min       696.000000   0.047000   0.103500   0.094200  \n",
        "25%     27131.750000   0.091350   0.176250   0.185175  \n",
        "50%    148259.500000   0.151050   0.226600   0.282150  \n",
        "75%    228876.750000   0.405450   0.516650   0.491625  \n",
        "max    688493.000000   0.758400   1.593100   1.696100  \n",
        "\n",
        "[8 rows x 9 columns]"
       ]
      }
     ],
     "prompt_number": 199
    },
    {
     "cell_type": "markdown",
     "metadata": {},
     "source": [
      "## Explore the distributions of the cAMP data for Figure 4"
     ]
    },
    {
     "cell_type": "code",
     "collapsed": false,
     "input": [
      "complexseg = data['Pool'] == 'C'\n",
      "simpleseg = data['Pool'] == 'S'\n",
      "\n",
      "c = data['cAMP'][complexseg]\n",
      "s = data['cAMP'][simpleseg]"
     ],
     "language": "python",
     "metadata": {},
     "outputs": [],
     "prompt_number": 225
    },
    {
     "cell_type": "code",
     "collapsed": false,
     "input": [
      "data['cAMP'][complexseg].hist(bins=12,color='red', alpha=0.5, grid=False)\n",
      "data['cAMP'][simpleseg].hist(bins=12, color='grey', alpha=0.5, grid=False)\n",
      "\n",
      "xlabel('fmol cAMP/mg cells')\n",
      "ylabel('Frequency')\n",
      "ylim(0,8)\n",
      "\n"
     ],
     "language": "python",
     "metadata": {},
     "outputs": [
      {
       "metadata": {},
       "output_type": "pyout",
       "prompt_number": 226,
       "text": [
        "(0, 8)"
       ]
      },
      {
       "metadata": {},
       "output_type": "display_data",
       "png": "[encoded data removed]",
       "text": [
        "<matplotlib.figure.Figure at 0x1178233d0>"
       ]
      }
     ],
     "prompt_number": 226
    },
    {
     "cell_type": "code",
     "collapsed": false,
     "input": [
      "\n",
      "#c.plot(kind='kde', color='red', linewidth=2)"
     ],
     "language": "python",
     "metadata": {},
     "outputs": [],
     "prompt_number": 202
    },
    {
     "cell_type": "code",
     "collapsed": false,
     "input": [
      "s.dropna().plot(kind='kde', color='black', linewidth=2, grid=False)\n",
      "c.dropna().plot(kind='kde', color='red', linewidth=2, grid=False)\n",
      "\n",
      "xlabel('fmol cAMP/mg cells')\n",
      "legend(['simple', 'complex'], loc='upper right')\n",
      "\n",
      "ylim(0, 0.010)"
     ],
     "language": "python",
     "metadata": {},
     "outputs": [
      {
       "metadata": {},
       "output_type": "pyout",
       "prompt_number": 203,
       "text": [
        "(0, 0.01)"
       ]
      },
      {
       "metadata": {},
       "output_type": "display_data",
       "png": "[encoded data removed]",
       "text": [
        "<matplotlib.figure.Figure at 0x1188386d0>"
       ]
      }
     ],
     "prompt_number": 203
    },
    {
     "cell_type": "code",
     "collapsed": false,
     "input": [
      "# add rugplot\n",
      "\n",
      "\n",
      "s.dropna().plot(kind='kde', color='black', linewidth=2, grid=False)\n",
      "c.dropna().plot(kind='kde', color='red', linewidth=2, grid=False)\n",
      "\n",
      "# draw rug plot\n",
      "plot(s.dropna(), s.dropna().count() * [0], linestyle='None', marker='|', color='black', alpha=0.9)\n",
      "plot(c.dropna(), c.dropna().count() * [-0.0005], 'r|', alpha=0.9)  # short hand for setting linestyle, marker, color\n",
      "\n",
      "\n",
      "xlabel('fmol cAMP/mg cells')\n",
      "legend(['simple', 'complex'], loc='upper right')\n",
      "\n",
      "ylim(-0.001, 0.010)"
     ],
     "language": "python",
     "metadata": {},
     "outputs": [
      {
       "metadata": {},
       "output_type": "pyout",
       "prompt_number": 204,
       "text": [
        "(-0.001, 0.01)"
       ]
      },
      {
       "metadata": {},
       "output_type": "display_data",
       "png": "[encoded data removed]",
       "text": [
        "<matplotlib.figure.Figure at 0x117934f10>"
       ]
      }
     ],
     "prompt_number": 204
    },
    {
     "cell_type": "code",
     "collapsed": false,
     "input": [
      "from scipy.stats import kde"
     ],
     "language": "python",
     "metadata": {},
     "outputs": [],
     "prompt_number": 111
    },
    {
     "cell_type": "code",
     "collapsed": false,
     "input": [
      "kdecomplex = kde.gaussian_kde(c.dropna(), bw_method=.25)\n",
      "plot(kdecomplex.evaluate(linspace(0,450,200)), 'r')"
     ],
     "language": "python",
     "metadata": {},
     "outputs": [
      {
       "metadata": {},
       "output_type": "pyout",
       "prompt_number": 205,
       "text": [
        "[<matplotlib.lines.Line2D at 0x118833b10>]"
       ]
      },
      {
       "metadata": {},
       "output_type": "display_data",
       "png": "[encoded data removed]",
       "text": [
        "<matplotlib.figure.Figure at 0x117fe1990>"
       ]
      }
     ],
     "prompt_number": 205
    },
    {
     "cell_type": "markdown",
     "metadata": {},
     "source": [
      "## Conduct a Mann-Whitney U test"
     ]
    },
    {
     "cell_type": "code",
     "collapsed": false,
     "input": [
      "from scipy import stats\n",
      "\n",
      "stats.mannwhitneyu(s.dropna(), c.dropna(), True)"
     ],
     "language": "python",
     "metadata": {},
     "outputs": [
      {
       "metadata": {},
       "output_type": "pyout",
       "prompt_number": 206,
       "text": [
        "(354.5, 0.0031639035215111381)"
       ]
      }
     ],
     "prompt_number": 206
    },
    {
     "cell_type": "code",
     "collapsed": false,
     "input": [
      "stats.kruskal(s.dropna(), c.dropna())\n"
     ],
     "language": "python",
     "metadata": {},
     "outputs": [
      {
       "metadata": {},
       "output_type": "pyout",
       "prompt_number": 207,
       "text": [
        "(7.4880405275381765, 0.0062110104764460747)"
       ]
      }
     ],
     "prompt_number": 207
    },
    {
     "cell_type": "code",
     "collapsed": false,
     "input": [
      "\n",
      "complexseg = data['Pool'] == 'C'\n",
      "simpleseg = data['Pool'] == 'S'\n",
      "\n",
      "cyr1hets = data['Cyr1.geno'] == 'H' \n",
      "flo11hets = data['Flo11.geno'] == 'H'\n",
      "\n",
      "c = data[complexseg & ~(cyr1hets | flo11hets)]\n",
      "s = data[simpleseg & ~(cyr1hets | flo11hets)]\n",
      "\n",
      "\n"
     ],
     "language": "python",
     "metadata": {},
     "outputs": [],
     "prompt_number": 215
    },
    {
     "cell_type": "code",
     "collapsed": false,
     "input": [
      "c['cAMP'].count(), s['cAMP'].count()"
     ],
     "language": "python",
     "metadata": {},
     "outputs": [
      {
       "metadata": {},
       "output_type": "pyout",
       "prompt_number": 216,
       "text": [
        "(29, 35)"
       ]
      }
     ],
     "prompt_number": 216
    },
    {
     "cell_type": "code",
     "collapsed": false,
     "input": [
      "sum(data['Pool'] == 'S')"
     ],
     "language": "python",
     "metadata": {},
     "outputs": [
      {
       "metadata": {},
       "output_type": "pyout",
       "prompt_number": 217,
       "text": [
        "35"
       ]
      }
     ],
     "prompt_number": 217
    },
    {
     "cell_type": "code",
     "collapsed": false,
     "input": [
      "mw, pval = stats.mannwhitneyu(s['cAMP'].dropna(), c['cAMP'].dropna(), False)"
     ],
     "language": "python",
     "metadata": {},
     "outputs": [],
     "prompt_number": 221
    },
    {
     "cell_type": "code",
     "collapsed": false,
     "input": [
      "2 * pval"
     ],
     "language": "python",
     "metadata": {},
     "outputs": [
      {
       "metadata": {},
       "output_type": "pyout",
       "prompt_number": 222,
       "text": [
        "0.011668504793908865"
       ]
      }
     ],
     "prompt_number": 222
    },
    {
     "cell_type": "code",
     "collapsed": false,
     "input": [
      "stats.kruskal(s['cAMP'].dropna(), c['cAMP'].dropna())"
     ],
     "language": "python",
     "metadata": {},
     "outputs": [
      {
       "metadata": {},
       "output_type": "pyout",
       "prompt_number": 223,
       "text": [
        "(6.3605548630250031, 0.011668504793908845)"
       ]
      }
     ],
     "prompt_number": 223
    },
    {
     "cell_type": "code",
     "collapsed": false,
     "input": [
      "?stats.kruskal"
     ],
     "language": "python",
     "metadata": {},
     "outputs": [],
     "prompt_number": 224
    },
    {
     "cell_type": "code",
     "collapsed": false,
     "input": [
      "data.shape"
     ],
     "language": "python",
     "metadata": {},
     "outputs": [
      {
       "metadata": {},
       "output_type": "pyout",
       "prompt_number": 230,
       "text": [
        "(70, 13)"
       ]
      }
     ],
     "prompt_number": 230
    },
    {
     "cell_type": "code",
     "collapsed": false,
     "input": [
      "v = data.drop('PMY1333')"
     ],
     "language": "python",
     "metadata": {},
     "outputs": [],
     "prompt_number": 235
    },
    {
     "cell_type": "code",
     "collapsed": false,
     "input": [
      "data.shape"
     ],
     "language": "python",
     "metadata": {},
     "outputs": [
      {
       "metadata": {},
       "output_type": "pyout",
       "prompt_number": 236,
       "text": [
        "(70, 13)"
       ]
      }
     ],
     "prompt_number": 236
    },
    {
     "cell_type": "code",
     "collapsed": false,
     "input": [
      "v.shape"
     ],
     "language": "python",
     "metadata": {},
     "outputs": [
      {
       "metadata": {},
       "output_type": "pyout",
       "prompt_number": 237,
       "text": [
        "(69, 13)"
       ]
      }
     ],
     "prompt_number": 237
    },
    {
     "cell_type": "code",
     "collapsed": false,
     "input": [
      "complexseg = v['Pool'] == 'C'\n",
      "simpleseg = v['Pool'] == 'S'\n",
      "\n",
      "cyr1hets = v['Cyr1.geno'] == 'H' \n",
      "flo11hets = v['Flo11.geno'] == 'H'\n",
      "\n",
      "c = v[complexseg & ~(cyr1hets | flo11hets)]\n",
      "s = v[simpleseg & ~(cyr1hets | flo11hets)]\n",
      "\n",
      "mw, pval = stats.mannwhitneyu(s['cAMP'].dropna(), c['cAMP'].dropna(), False)\n",
      "print 2*pval"
     ],
     "language": "python",
     "metadata": {},
     "outputs": [
      {
       "output_type": "stream",
       "stream": "stdout",
       "text": [
        "0.0116685047939\n"
       ]
      }
     ],
     "prompt_number": 240
    },
    {
     "cell_type": "code",
     "collapsed": false,
     "input": [
      "?stats.mannwhitneyu"
     ],
     "language": "python",
     "metadata": {},
     "outputs": [],
     "prompt_number": 241
    },
    {
     "cell_type": "code",
     "collapsed": false,
     "input": [],
     "language": "python",
     "metadata": {},
     "outputs": []
    }
   ],
   "metadata": {}
  }
 ]
}