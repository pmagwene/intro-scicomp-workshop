{
 "metadata": {
  "name": ""
 },
 "nbformat": 3,
 "nbformat_minor": 0,
 "worksheets": [
  {
   "cells": [
    {
     "cell_type": "heading",
     "level": 1,
     "metadata": {},
     "source": [
      "Reproducible Computational Research"
     ]
    },
    {
     "cell_type": "markdown",
     "metadata": {},
     "source": [
      "1: Sandve GK, Nekrutenko A, Taylor J, Hovig E. Ten simple rules for reproducible  computational research. PLoS Comput Biol. 2013 Oct;9(10):e1003285. doi:10.1371/journal.pcbi.1003285. Epub 2013 Oct 24. PubMed PMID: 24204232; PubMed Central PMCID: PMC3812051."
     ]
    },
    {
     "cell_type": "heading",
     "level": 2,
     "metadata": {},
     "source": [
      "What do we mean by Reproducible Computational Research?"
     ]
    },
    {
     "cell_type": "heading",
     "level": 2,
     "metadata": {},
     "source": [
      "Key elements of RCR"
     ]
    },
    {
     "cell_type": "markdown",
     "metadata": {},
     "source": [
      "* Data sources readily available and in clearly defined data format\n",
      "* Explicit description of data pre-processing (filtering, normalization, outlier removal, etc)\n",
      "* Avoid manual data manipulation steps\n",
      "* Computational steps of the analysis clear defined \n",
      "* Key figures, tables, and statistical analyses can be reproduced given the input data and the computational description\n",
      "* Easily shared with someone else\n",
      "* Some sort of versioning system -- code evolves as bugs are fixed, new capabilities are added, etc.  Sometimes such changes can lead to differences in output.  Results you published should be able to point to a particular version of the code base whenever possible."
     ]
    },
    {
     "cell_type": "heading",
     "level": 2,
     "metadata": {},
     "source": [
      "Tools to facilitate RR"
     ]
    },
    {
     "cell_type": "markdown",
     "metadata": {},
     "source": [
      "* Python\n",
      "    - IPython\n",
      "    - PyLatex\n",
      "\n",
      "* R\n",
      "    - Knitr / Sweave\n",
      "    \n",
      "* Version control -- git, mercurial, other VCS\n",
      "\n"
     ]
    },
    {
     "cell_type": "heading",
     "level": 2,
     "metadata": {},
     "source": [
      "Strategies to facilitate RR"
     ]
    },
    {
     "cell_type": "markdown",
     "metadata": {},
     "source": [
      "* Strive to make your code base a set of small, coherent units that accomplish some specified task; unix philosophy\n",
      "\n",
      "* Code that is generally useful or used repeatedly should be generalized and turned into functions; don't repeat yourself principle \n",
      "\n",
      "* generally useful functions in modules; specifics of analysis in IPython notebook or Python scripts\n",
      "\n",
      "* when you produce a key result, check in the code base to your VCS, or create an archive of your codebase and associated data that produces that results\n",
      "\n"
     ]
    },
    {
     "cell_type": "heading",
     "level": 2,
     "metadata": {},
     "source": [
      "Things to Keep in Mind"
     ]
    },
    {
     "cell_type": "markdown",
     "metadata": {},
     "source": [
      "* Developing clear, coherent, well documented code is an iterative process; restructuring and refactoring are necessary steps"
     ]
    }
   ],
   "metadata": {}
  }
 ]
}