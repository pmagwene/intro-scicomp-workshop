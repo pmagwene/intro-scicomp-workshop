{
 "metadata": {
  "name": ""
 },
 "nbformat": 3,
 "nbformat_minor": 0,
 "worksheets": [
  {
   "cells": [
    {
     "cell_type": "markdown",
     "metadata": {},
     "source": [
      "## Files and URL Links\n",
      "\n",
      "* Link to course wiki (as tiny URL) -- http://tinyurl.com/intro-sci-comp\n",
      "\n",
      "\n",
      "* VM Manage site -- https://vm-manage.oit.duke.edu/\n",
      "\n",
      "\n",
      "* Granek et al. 2013\n",
      "    - Granek JA, Murray D, Kayrk\u00e7i \u00d6, Magwene PM. The genetic architecture of biofilm formation in a clinical isolate of Saccharomyces cerevisiae. Genetics. 2013 Feb;193(2):587-600. doi: 10.1534/genetics.112.142067. Epub 2012 Nov 19. PubMed PMID: 23172850; PubMed Central PMCID: PMC3567746. http://www.genetics.org/content/193/2/587.full\n",
      "    \n",
      "    - Data from Granek et al. 2013 publication -- http://datadryad.org/resource/doi:10.5061/dryad.mn71g\n",
      "    \n"
     ]
    },
    {
     "cell_type": "markdown",
     "metadata": {},
     "source": [
      "## References on Reproducible Computational Research\n",
      "\n",
      "* Peng RD. Reproducible research and Biostatistics. Biostatistics. 2009. Jul;10(3):405-8. doi: 10.1093/biostatistics/kxp014. PubMed PMID: 19535325. http://dx.doi.org/10.1093/biostatistics/kxp014\n",
      "\n",
      "* Sandve GK, Nekrutenko A, Taylor J, Hovig E. Ten simple rules for reproducible  computational research. PLoS Comput Biol. 2013. Oct;9(10):e1003285. doi:10.1371/journal.pcbi.1003285. Epub 2013 Oct 24. PubMed PMID: 24204232; PubMed Central PMCID: PMC3812051. http://dx.doi.org/10.1371/journal.pcbi.1003285\n",
      "\n"
     ]
    },
    {
     "cell_type": "markdown",
     "metadata": {},
     "source": [
      "# Sandve et al. 2013, Ten Simple Rules\n",
      "\n",
      "Rule 1: For Every Result, Keep Track of How It Was Produced\n",
      "\n",
      " * Use tools that facilitate \"literate analysis\" like IPython and Sweave/knitr (for R)\n",
      "\n",
      "Rule 2: Avoid Manual Data Manipulation Steps\n",
      "\n",
      " * Filtering, normalization, etc. should be scripted steps\n",
      "\n",
      "Rule 3: Archive the Exact Versions of All External Programs Used\n",
      "\n",
      " * README, source tarballs, etc.\n",
      "\n",
      "Rule 4: Version Control All Custom Scripts\n",
      " \n",
      " * git, mercurial, other VCS\n",
      "\n",
      "Rule 5: Record All Intermediate Results, When Possible in Standardized Formats\n",
      "\n",
      " * Particularly true when there are many steps between the \"raw data\" and the derived data on which analyses are carried out and conclusions drawn\n",
      "\n",
      "Rule 6: For Analyses That Include Randomness, Note Underlying Random Seeds\n",
      "\n",
      " * pseudo-randomness can be repeated!\n",
      "\n",
      "Rule 7: Always Store Raw Data behind Plots\n",
      "\n",
      " * plots should be computationally generated from source files whenever possible\n",
      "\n",
      "Rule 8: Generate Hierarchical Analysis Output, Allowing Layers of Increasing Detail to Be Inspected\n",
      "\n",
      " * the lower level results that got you to a final summary figure or table are often valuable both in terms of understanding and validation; develop methods that allow inspection of data at multiple levels of summary\n",
      "\n",
      "Rule 9: Connect Textual Statements to Underlying Results\n",
      "\n",
      "  * Analysis and the discussion of your results should ideally be intimately related\n",
      "\n",
      "Rule 10: Provide Public Access to Scripts, Runs, and Results\n",
      "\n",
      "  * data should be placed in public repositories (Genbank, SRA, GEO, Dryad, etc)\n",
      "  * Ideally source code and scripts should similarly be available -- e.g. github, bitbucket, etc."
     ]
    },
    {
     "cell_type": "markdown",
     "metadata": {},
     "source": [
      "## Additions to the 10 simple rules\n",
      "\n",
      "* Strive to make your code base a set of small, coherent units that accomplish some specified task (Unix philosophy)\n",
      "\n",
      "* Code that is generally useful or used repeatedly should be generalized, turned into functions and incorporated into modules; don't repeat yourself principle \n",
      "\n",
      "* Developing clear, coherent, well documented code is an iterative process; restructuring and refactoring are necessary steps"
     ]
    },
    {
     "cell_type": "markdown",
     "metadata": {},
     "source": [
      "## A worked example, based on Granek et al. 2013"
     ]
    },
    {
     "cell_type": "markdown",
     "metadata": {},
     "source": [
      "This is a reanalysis of data published in Granek et al. 2013. Our goal is to reproduce Fig. 4 and the Mann-Whitney U-test to test the difference in cAMP distributions between genetic segregants that produce simple and complex colony phenotypes."
     ]
    },
    {
     "cell_type": "markdown",
     "metadata": {},
     "source": [
      "### Data retrieval"
     ]
    },
    {
     "cell_type": "code",
     "collapsed": false,
     "input": [
      "## use wget to download the \"seg_strain_table.csv\" file from Dryad\n",
      "\n",
      "# uncomment this line to download the data directly from Dryad\n",
      "# !wget http://datadryad.org/bitstream/handle/10255/dryad.43938/seg_strain_table.csv?sequence=1 -O seg_strain_table.csv"
     ],
     "language": "python",
     "metadata": {},
     "outputs": [],
     "prompt_number": 1
    },
    {
     "cell_type": "markdown",
     "metadata": {},
     "source": [
      "### Import data for analysis and do some basic exploration"
     ]
    },
    {
     "cell_type": "code",
     "collapsed": false,
     "input": [
      "import pandas as pd  # the Pandas library provides a convenient data frame objects\n",
      "\n",
      "# define data source for this analysis\n",
      "datafile = 'seg_strain_table.csv'"
     ],
     "language": "python",
     "metadata": {},
     "outputs": [],
     "prompt_number": 6
    },
    {
     "cell_type": "code",
     "collapsed": false,
     "input": [
      "# read in the csv file\n"
     ],
     "language": "python",
     "metadata": {},
     "outputs": [],
     "prompt_number": 7
    },
    {
     "cell_type": "code",
     "collapsed": false,
     "input": [
      "# checkout the shape of the data frame, use the head() and tail() functions\n"
     ],
     "language": "python",
     "metadata": {},
     "outputs": [],
     "prompt_number": 8
    },
    {
     "cell_type": "code",
     "collapsed": false,
     "input": [
      "# look at some of the columns in the data. Note the NaN entries\n"
     ],
     "language": "python",
     "metadata": {},
     "outputs": [],
     "prompt_number": 10
    },
    {
     "cell_type": "code",
     "collapsed": false,
     "input": [
      "# count the missing values using isnull() and sum"
     ],
     "language": "python",
     "metadata": {},
     "outputs": [],
     "prompt_number": 11
    },
    {
     "cell_type": "code",
     "collapsed": false,
     "input": [
      "# count the missing values for all variables\n"
     ],
     "language": "python",
     "metadata": {},
     "outputs": [],
     "prompt_number": 12
    },
    {
     "cell_type": "code",
     "collapsed": false,
     "input": [
      "# use the describe() method "
     ],
     "language": "python",
     "metadata": {},
     "outputs": [],
     "prompt_number": 13
    },
    {
     "cell_type": "markdown",
     "metadata": {},
     "source": [
      "## Explore the distributions of the cAMP data for Figure 4"
     ]
    },
    {
     "cell_type": "code",
     "collapsed": false,
     "input": [
      "# Create subsets of the data for the complex and simple segregatns \n"
     ],
     "language": "python",
     "metadata": {},
     "outputs": [],
     "prompt_number": 225
    },
    {
     "cell_type": "code",
     "collapsed": false,
     "input": [
      "# Generate some histograms using the hist() method on the data frames"
     ],
     "language": "python",
     "metadata": {},
     "outputs": [],
     "prompt_number": 14
    },
    {
     "cell_type": "code",
     "collapsed": false,
     "input": [
      "# Generate density plots using the plot() method on data frames, with the kind='kde' option"
     ],
     "language": "python",
     "metadata": {},
     "outputs": [],
     "prompt_number": 15
    },
    {
     "cell_type": "code",
     "collapsed": false,
     "input": [
      "# Create a final version that includes a rugplot"
     ],
     "language": "python",
     "metadata": {},
     "outputs": [],
     "prompt_number": 17
    },
    {
     "cell_type": "code",
     "collapsed": false,
     "input": [
      "# if you wanted finer grained control of the kernel desnity estimator you could\n",
      "# import the gaussian_kde function from scipy.stats and generate the density estimate yourself\n",
      "\n",
      "from scipy.stats import gaussian_kde"
     ],
     "language": "python",
     "metadata": {},
     "outputs": [],
     "prompt_number": 111
    },
    {
     "cell_type": "markdown",
     "metadata": {},
     "source": [
      "## Conduct a Mann-Whitney U test"
     ]
    },
    {
     "cell_type": "markdown",
     "metadata": {},
     "source": [
      "The `scipy.stats` module includes a function for carrying out the Mann-Whitney U-test."
     ]
    },
    {
     "cell_type": "code",
     "collapsed": false,
     "input": [
      "from scipy import stats\n",
      "\n",
      "#U, pval = stats.mannwhitneyu(sampleA, sampleB)\n",
      "\n",
      "# The pval above is one-sided, so multiple by two for the two-sided teset\n",
      "# print 2 * pval \n"
     ],
     "language": "python",
     "metadata": {},
     "outputs": [],
     "prompt_number": 19
    },
    {
     "cell_type": "markdown",
     "metadata": {},
     "source": [
      "## Kruskal-Wallis Test"
     ]
    },
    {
     "cell_type": "markdown",
     "metadata": {},
     "source": [
      "The Kruskal-Wallis test is a non-parameteric analog of a one-way ANOVA. The p-values from the Kruskal-Wallis test should be mathematically equivalent to those of the two-side Mann-Whitney U-test."
     ]
    },
    {
     "cell_type": "code",
     "collapsed": false,
     "input": [
      "# stats.kruskal(sampleA, sampleB)\n"
     ],
     "language": "python",
     "metadata": {},
     "outputs": [],
     "prompt_number": 20
    }
   ],
   "metadata": {}
  }
 ]
}