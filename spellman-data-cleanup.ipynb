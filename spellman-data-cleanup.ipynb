{
 "metadata": {
  "name": ""
 },
 "nbformat": 3,
 "nbformat_minor": 0,
 "worksheets": [
  {
   "cells": [
    {
     "cell_type": "code",
     "collapsed": false,
     "input": [
      "import pandas as pd"
     ],
     "language": "python",
     "metadata": {},
     "outputs": [],
     "prompt_number": 64
    },
    {
     "cell_type": "code",
     "collapsed": false,
     "input": [
      "rawdata = pd.read_table(\"./spellman-combined.txt\", index_col=0)"
     ],
     "language": "python",
     "metadata": {},
     "outputs": [],
     "prompt_number": 37
    },
    {
     "cell_type": "code",
     "collapsed": false,
     "input": [
      "# the data set is arranged with variables (genes) in rows and samples (experimental conditions)\n",
      "# in columns\n",
      "rawdata.shape"
     ],
     "language": "python",
     "metadata": {},
     "outputs": [
      {
       "metadata": {},
       "output_type": "pyout",
       "prompt_number": 38,
       "text": [
        "(6178, 82)"
       ]
      }
     ],
     "prompt_number": 38
    },
    {
     "cell_type": "code",
     "collapsed": false,
     "input": [
      "# each column corresponds to a different experimental condition and time point\n",
      "# e.g. cdc28_20 is the 20min time point in the experiments involving cdc28-ts mutants\n",
      "rawdata.columns"
     ],
     "language": "python",
     "metadata": {},
     "outputs": [
      {
       "metadata": {},
       "output_type": "pyout",
       "prompt_number": 39,
       "text": [
        "Index([u'cln3-1', u'cln3-2', u'clb', u'clb2-2', u'clb2-1', u'alpha', u'alpha0', u'alpha7', u'alpha14', u'alpha21', u'alpha28', u'alpha35', u'alpha42', u'alpha49', u'alpha56', u'alpha63', u'alpha70', u'alpha77', u'alpha84', u'alpha91', u'alpha98', u'alpha105', u'alpha112', u'alpha119', u'cdc15', u'cdc15_10', u'cdc15_30', u'cdc15_50', u'cdc15_70', u'cdc15_80', u'cdc15_90', u'cdc15_100', u'cdc15_110', u'cdc15_120', u'cdc15_130', u'cdc15_140', u'cdc15_150', u'cdc15_160', u'cdc15_170', u'cdc15_180', u'cdc15_190', u'cdc15_200', u'cdc15_210', u'cdc15_220', u'cdc15_230', u'cdc15_240', u'cdc15_250', u'cdc15_270', u'cdc15_290', u'cdc28', u'cdc28_0', u'cdc28_10', u'cdc28_20', u'cdc28_30', u'cdc28_40', u'cdc28_50', u'cdc28_60', u'cdc28_70', u'cdc28_80', u'cdc28_90', u'cdc28_100', u'cdc28_110', u'cdc28_120', u'cdc28_130', u'cdc28_140', u'cdc28_150', u'cdc28_160', u'elu', u'elu0', u'elu30', u'elu60', u'elu90', u'elu120', u'elu150', u'elu180', u'elu210', u'elu240', u'elu270', u'elu300', u'elu330', u'elu360', u'elu390'], dtype='object')"
       ]
      }
     ],
     "prompt_number": 39
    },
    {
     "cell_type": "code",
     "collapsed": false,
     "input": [
      "#  systematic gene names for the Yeast genome\n",
      "#  always start with \"Y\" for yeast\n",
      "# the second letter indicates which nuclear chromosome (A = 1, B = 2, ..., P = 16)\n",
      "# The next letter is L or R for left or right chcromosomal arm\n",
      "# The number gives numbering sar\n",
      "rawdata.index[:10]"
     ],
     "language": "python",
     "metadata": {},
     "outputs": [
      {
       "metadata": {},
       "output_type": "pyout",
       "prompt_number": 40,
       "text": [
        "Index([u'YAL001C', u'YAL002W', u'YAL003W', u'YAL004W', u'YAL005C', u'YAL007C', u'YAL008W', u'YAL009W', u'YAL010C', u'YAL011W'], dtype='object')"
       ]
      }
     ],
     "prompt_number": 40
    },
    {
     "cell_type": "code",
     "collapsed": false,
     "input": [
      "# if you open up the data set in a spreadsheet program you will notice that some \n",
      "# of the columns are empty -- these are simply delimiters used to visually separate\n",
      "# the different experiments.  Let's filter these out\n",
      "\n",
      "emptycols = ['clb', 'alpha', 'cdc15', 'cdc28', 'elu']\n",
      "\n",
      "nonempty = rawdata.drop(emptycols, axis=1) # drop the empty columns"
     ],
     "language": "python",
     "metadata": {},
     "outputs": [],
     "prompt_number": 77
    },
    {
     "cell_type": "code",
     "collapsed": false,
     "input": [
      "nonempty.shape"
     ],
     "language": "python",
     "metadata": {},
     "outputs": [
      {
       "metadata": {},
       "output_type": "pyout",
       "prompt_number": 92,
       "text": [
        "(6178, 77)"
       ]
      }
     ],
     "prompt_number": 92
    },
    {
     "cell_type": "code",
     "collapsed": false,
     "input": [
      "# some genes have lots of missing data\n",
      "# let's filter out any genes where there are fewer than 69 observations (i.e. more than 10%) of the\n",
      "# experiments are missing data\n",
      "\n",
      "goodgenes = nonempty.loc[nonempty.count(axis=1) > 69]"
     ],
     "language": "python",
     "metadata": {},
     "outputs": [],
     "prompt_number": 94
    },
    {
     "cell_type": "code",
     "collapsed": false,
     "input": [
      "# we've reduced the data set to 5293 genes\n",
      "goodgenes.shape"
     ],
     "language": "python",
     "metadata": {},
     "outputs": [
      {
       "metadata": {},
       "output_type": "pyout",
       "prompt_number": 95,
       "text": [
        "(5293, 77)"
       ]
      }
     ],
     "prompt_number": 95
    },
    {
     "cell_type": "code",
     "collapsed": false,
     "input": [
      "#Read in spellman data as \"scores\"\n",
      "orf_data = pd.read_table(\"orf_data.txt\", index_col=0)\n",
      "orf_data.shape"
     ],
     "language": "python",
     "metadata": {},
     "outputs": [
      {
       "metadata": {},
       "output_type": "pyout",
       "prompt_number": 97,
       "text": [
        "(6223, 6)"
       ]
      }
     ],
     "prompt_number": 97
    },
    {
     "cell_type": "code",
     "collapsed": false,
     "input": [
      "# the score variable is the one we're interested in\n",
      "# this is a measure that Spellman et al. came up with to identify\n",
      "# those genes that head expression patterns consistent with being \n",
      "# cell cycle regulated\n",
      "\n",
      "orf_data.columns"
     ],
     "language": "python",
     "metadata": {},
     "outputs": [
      {
       "metadata": {},
       "output_type": "pyout",
       "prompt_number": 99,
       "text": [
        "Index([u'GENE', u'SCORE', u'X', u'Y', u'ATAN2', u'cluster'], dtype='object')"
       ]
      }
     ],
     "prompt_number": 99
    },
    {
     "cell_type": "code",
     "collapsed": false,
     "input": [
      "# Let's use the .join() method associated with data frames\n",
      "# to join the data frames, keeping only those rows that are common to both\n",
      "\n",
      "joined = goodgenes.join(orf_data, how='inner')\n",
      "joined.shape"
     ],
     "language": "python",
     "metadata": {},
     "outputs": [
      {
       "metadata": {},
       "output_type": "pyout",
       "prompt_number": 115,
       "text": [
        "(5293, 83)"
       ]
      }
     ],
     "prompt_number": 115
    },
    {
     "cell_type": "code",
     "collapsed": false,
     "input": [
      "joined.columns"
     ],
     "language": "python",
     "metadata": {},
     "outputs": [
      {
       "metadata": {},
       "output_type": "pyout",
       "prompt_number": 117,
       "text": [
        "Index([u'cln3-1', u'cln3-2', u'clb2-2', u'clb2-1', u'alpha0', u'alpha7', u'alpha14', u'alpha21', u'alpha28', u'alpha35', u'alpha42', u'alpha49', u'alpha56', u'alpha63', u'alpha70', u'alpha77', u'alpha84', u'alpha91', u'alpha98', u'alpha105', u'alpha112', u'alpha119', u'cdc15_10', u'cdc15_30', u'cdc15_50', u'cdc15_70', u'cdc15_80', u'cdc15_90', u'cdc15_100', u'cdc15_110', u'cdc15_120', u'cdc15_130', u'cdc15_140', u'cdc15_150', u'cdc15_160', u'cdc15_170', u'cdc15_180', u'cdc15_190', u'cdc15_200', u'cdc15_210', u'cdc15_220', u'cdc15_230', u'cdc15_240', u'cdc15_250', u'cdc15_270', u'cdc15_290', u'cdc28_0', u'cdc28_10', u'cdc28_20', u'cdc28_30', u'cdc28_40', u'cdc28_50', u'cdc28_60', u'cdc28_70', u'cdc28_80', u'cdc28_90', u'cdc28_100', u'cdc28_110', u'cdc28_120', u'cdc28_130', u'cdc28_140', u'cdc28_150', u'cdc28_160', u'elu0', u'elu30', u'elu60', u'elu90', u'elu120', u'elu150', u'elu180', u'elu210', u'elu240', u'elu270', u'elu300', u'elu330', u'elu360', u'elu390', u'GENE', u'SCORE', u'X', u'Y', u'ATAN2', u'cluster'], dtype='object')"
       ]
      }
     ],
     "prompt_number": 117
    },
    {
     "cell_type": "code",
     "collapsed": false,
     "input": [
      "# identify the cell cycle regulated genes\n",
      "\n",
      "cellcycle = joined[joined.SCORE > 1.314]  # threshold from Spellman et al. 1998\n"
     ],
     "language": "python",
     "metadata": {},
     "outputs": [],
     "prompt_number": 130
    },
    {
     "cell_type": "code",
     "collapsed": false,
     "input": [
      "cellcycle.shape"
     ],
     "language": "python",
     "metadata": {},
     "outputs": [
      {
       "metadata": {},
       "output_type": "pyout",
       "prompt_number": 131,
       "text": [
        "(724, 83)"
       ]
      }
     ],
     "prompt_number": 131
    },
    {
     "cell_type": "code",
     "collapsed": false,
     "input": [
      "#cellcycle.drop(orf_data.columns, axis=1).T.to_csv('spellman-tocluster.csv')"
     ],
     "language": "python",
     "metadata": {},
     "outputs": [],
     "prompt_number": 134
    },
    {
     "cell_type": "code",
     "collapsed": false,
     "input": [],
     "language": "python",
     "metadata": {},
     "outputs": []
    }
   ],
   "metadata": {}
  }
 ]
}