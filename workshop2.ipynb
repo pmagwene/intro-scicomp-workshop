{
 "metadata": {
  "name": ""
 },
 "nbformat": 3,
 "nbformat_minor": 0,
 "worksheets": [
  {
   "cells": [
    {
     "cell_type": "heading",
     "level": 1,
     "metadata": {},
     "source": [
      "Python Standard Library"
     ]
    },
    {
     "cell_type": "markdown",
     "metadata": {},
     "source": [
      "The Python Standard Library (PSL) contains data structures and functions appropriate for a wide range of computing tasks.  The [documentation for the library](https://docs.python.org/2.7/library/) is well written and is worth browsing through to get a sense of the available tools. For the purposes of this workshop we'll look at a few of the most commonly used libraries."
     ]
    },
    {
     "cell_type": "markdown",
     "metadata": {},
     "source": [
      "### Reading and writing files"
     ]
    },
    {
     "cell_type": "markdown",
     "metadata": {},
     "source": [
      "Log into your VM and use the `nano` editor to create two files:\n",
      "\n",
      "1. words.txt \n",
      "\n",
      "```\n",
      "It was the best of times, it was the worst of times, it was the age of\n",
      "wisdom, it was the age of foolishness, it was the epoch of belief, it\n",
      "was the epoch of incredulity, it was the season of Light, it was the\n",
      "season of Darkness, it was the spring of hope, it was the winter of\n",
      "despair...\n",
      "```\n",
      "\n",
      "2. numbers.txt\n",
      "\n",
      "```\n",
      "12\n",
      "8\n",
      "15\n",
      "10\n",
      "9\n",
      "7\n",
      "12\n",
      "9\n",
      "8\n",
      "8\n",
      "```"
     ]
    },
    {
     "cell_type": "code",
     "collapsed": false,
     "input": [
      "## open, close, file objects\n",
      "\n",
      "f = open('words.txt', 'r')  # f is a file object opened as read only\n",
      "fstr = f.read()  # fstr is a string\n",
      "f.close()\n",
      "words = fstr.split()  # split the string into a list of words, by default split by whitespace\n",
      "print words"
     ],
     "language": "python",
     "metadata": {},
     "outputs": [
      {
       "output_type": "stream",
       "stream": "stdout",
       "text": [
        "['It', 'was', 'the', 'best', 'of', 'times,', 'it', 'was', 'the', 'worst', 'of', 'times,', 'it', 'was', 'the', 'age', 'of', 'wisdom,', 'it', 'was', 'the', 'age', 'of', 'foolishness,', 'it', 'was', 'the', 'epoch', 'of', 'belief,', 'it', 'was', 'the', 'epoch', 'of', 'incredulity,', 'it', 'was', 'the', 'season', 'of', 'Light,', 'it', 'was', 'the', 'season', 'of', 'Darkness,', 'it', 'was', 'the', 'spring', 'of', 'hope,', 'it', 'was', 'the', 'winter', 'of', 'despair...']\n"
       ]
      }
     ],
     "prompt_number": 5
    },
    {
     "cell_type": "code",
     "collapsed": false,
     "input": [
      "revwords = words[::-1]  # a list\n",
      "ostr = ' '.join(revwords)  # join the elements of the list into a string, with elements separated by spaces\n",
      "print ostr"
     ],
     "language": "python",
     "metadata": {},
     "outputs": [
      {
       "output_type": "stream",
       "stream": "stdout",
       "text": [
        "despair... of winter the was it hope, of spring the was it Darkness, of season the was it Light, of season the was it incredulity, of epoch the was it belief, of epoch the was it foolishness, of age the was it wisdom, of age the was it times, of worst the was it times, of best the was It\n"
       ]
      }
     ],
     "prompt_number": 10
    },
    {
     "cell_type": "code",
     "collapsed": false,
     "input": [
      "o = open('reverse-words.txt', 'w')  # o is a file object opened as write-able\n",
      "o.write(ostr)\n",
      "o.close()\n"
     ],
     "language": "python",
     "metadata": {},
     "outputs": []
    },
    {
     "cell_type": "markdown",
     "metadata": {},
     "source": [
      "Instead of reading the file in it's entirety we can also read it in as lines"
     ]
    },
    {
     "cell_type": "code",
     "collapsed": false,
     "input": [
      "f = open('words.txt', 'r')\n",
      "flines = f.readlines()\n",
      "print flines"
     ],
     "language": "python",
     "metadata": {},
     "outputs": [
      {
       "output_type": "stream",
       "stream": "stdout",
       "text": [
        "['It was the best of times, it was the worst of times, it was the age of \\n', 'wisdom, it was the age of foolishness, it was the epoch of belief, it \\n', 'was the epoch of incredulity, it was the season of Light, it was the \\n', 'season of Darkness, it was the spring of hope, it was the winter of \\n', 'despair...\\n']\n"
       ]
      }
     ],
     "prompt_number": 11
    },
    {
     "cell_type": "code",
     "collapsed": false,
     "input": [
      "flines.reverse()  # reverse the list in place"
     ],
     "language": "python",
     "metadata": {},
     "outputs": [],
     "prompt_number": 12
    },
    {
     "cell_type": "code",
     "collapsed": false,
     "input": [
      "print flines"
     ],
     "language": "python",
     "metadata": {},
     "outputs": [
      {
       "output_type": "stream",
       "stream": "stdout",
       "text": [
        "['despair...\\n', 'season of Darkness, it was the spring of hope, it was the winter of \\n', 'was the epoch of incredulity, it was the season of Light, it was the \\n', 'wisdom, it was the age of foolishness, it was the epoch of belief, it \\n', 'It was the best of times, it was the worst of times, it was the age of \\n']\n"
       ]
      }
     ],
     "prompt_number": 13
    },
    {
     "cell_type": "code",
     "collapsed": false,
     "input": [
      "print ''.join(flines)"
     ],
     "language": "python",
     "metadata": {},
     "outputs": [
      {
       "output_type": "stream",
       "stream": "stdout",
       "text": [
        "despair...\n",
        "season of Darkness, it was the spring of hope, it was the winter of \n",
        "was the epoch of incredulity, it was the season of Light, it was the \n",
        "wisdom, it was the age of foolishness, it was the epoch of belief, it \n",
        "It was the best of times, it was the worst of times, it was the age of \n",
        "\n"
       ]
      }
     ],
     "prompt_number": 15
    },
    {
     "cell_type": "markdown",
     "metadata": {},
     "source": [
      "### Working with the OS directory and files"
     ]
    },
    {
     "cell_type": "code",
     "collapsed": false,
     "input": [
      "## os, os.path , glob"
     ],
     "language": "python",
     "metadata": {},
     "outputs": []
    },
    {
     "cell_type": "markdown",
     "metadata": {},
     "source": [
      "Within IPython, you can use the Unix directory navigation commands like `ls`, `pwd`, `cd`, etc.  This is a special feature of IPython, and not a built-in Python feature."
     ]
    },
    {
     "cell_type": "code",
     "collapsed": false,
     "input": [
      "pwd"
     ],
     "language": "python",
     "metadata": {},
     "outputs": [
      {
       "metadata": {},
       "output_type": "pyout",
       "prompt_number": 17,
       "text": [
        "u'/Users/pmagwene/gits/github/intro-scicomp-workshop'"
       ]
      }
     ],
     "prompt_number": 17
    },
    {
     "cell_type": "code",
     "collapsed": false,
     "input": [
      "ls"
     ],
     "language": "python",
     "metadata": {},
     "outputs": [
      {
       "output_type": "stream",
       "stream": "stdout",
       "text": [
        "README.md               spellman-tocluster.csv  workshop2-Copy0.ipynb\r\n",
        "numbers.txt             words.txt               workshop2.ipynb\r\n",
        "reverse-words.txt       workshop1.ipynb\r\n"
       ]
      }
     ],
     "prompt_number": 18
    },
    {
     "cell_type": "markdown",
     "metadata": {},
     "source": [
      "To navigate directories and file structure in Python requires the use of several libraries from the PSL.  The main ones are `os` and `os.path`. I also find the library `glob` to be useful."
     ]
    },
    {
     "cell_type": "code",
     "collapsed": false,
     "input": [
      "import os  # import the os module\n",
      "os.getcwd()  # get current working directory"
     ],
     "language": "python",
     "metadata": {},
     "outputs": [
      {
       "metadata": {},
       "output_type": "pyout",
       "prompt_number": 19,
       "text": [
        "'/Users/pmagwene/gits/github/intro-scicomp-workshop'"
       ]
      }
     ],
     "prompt_number": 19
    },
    {
     "cell_type": "code",
     "collapsed": false,
     "input": [
      "localfiles = os.listdir('.')\n",
      "\n",
      "for i, fname in enumerate(localfiles):  # lookup the enumerate function -- it's useful!\n",
      "    print 'File %d: %s' %  (i,fname)"
     ],
     "language": "python",
     "metadata": {},
     "outputs": [
      {
       "output_type": "stream",
       "stream": "stdout",
       "text": [
        "File 0: .DS_Store\n",
        "File 1: .git\n",
        "File 2: .ipynb_checkpoints\n",
        "File 3: README.md\n",
        "File 4: numbers.txt\n",
        "File 5: reverse-words.txt\n",
        "File 6: spellman-tocluster.csv\n",
        "File 7: words.txt\n",
        "File 8: workshop1.ipynb\n",
        "File 9: workshop2-Copy0.ipynb\n",
        "File 10: workshop2.ipynb\n"
       ]
      }
     ],
     "prompt_number": 24
    },
    {
     "cell_type": "code",
     "collapsed": false,
     "input": [
      "## os.path is useful for manipulating and working with pathnames\n",
      "\n",
      "import os.path\n",
      "print os.path.expanduser('~')  # tilde is the unix shorthand for the current users home directory\n",
      "                               # expanduser() turns that into the full fledged directory name"
     ],
     "language": "python",
     "metadata": {},
     "outputs": [
      {
       "output_type": "stream",
       "stream": "stdout",
       "text": [
        "/Users/pmagwene\n"
       ]
      }
     ],
     "prompt_number": 29
    },
    {
     "cell_type": "code",
     "collapsed": false,
     "input": [
      "print os.path.abspath('./words.txt')  # get the full path name of the words.txt file in the current directory"
     ],
     "language": "python",
     "metadata": {},
     "outputs": [
      {
       "output_type": "stream",
       "stream": "stdout",
       "text": [
        "/Users/pmagwene/gits/github/intro-scicomp-workshop/words.txt\n"
       ]
      }
     ],
     "prompt_number": 30
    },
    {
     "cell_type": "markdown",
     "metadata": {},
     "source": [
      "### glob and fnmatch\n",
      "\n",
      "\"globbing\" is a Unix-ism referring to  all the pathnames matching a specified pattern.  Python provides a simple `glob` module that provides  pathname matching according to the rules used by the Unix shell. The module `fnmatch` provides more sophisticated file name matching.\n"
     ]
    },
    {
     "cell_type": "code",
     "collapsed": false,
     "input": [
      "import glob\n",
      "\n",
      "textfiles = glob.glob('*.txt')  # find all files that end in '.txt'\n",
      "print textfiles"
     ],
     "language": "python",
     "metadata": {},
     "outputs": [
      {
       "output_type": "stream",
       "stream": "stdout",
       "text": [
        "['numbers.txt', 'reverse-words.txt', 'words.txt']\n"
       ]
      }
     ],
     "prompt_number": 32
    },
    {
     "cell_type": "code",
     "collapsed": false,
     "input": [
      "# to find files that DO NOT match a pattern use fnmatch\n",
      "import fnmatch\n",
      "\n",
      "# use a list comprehension to file all the files in the current directory\n",
      "# that do not end with .txt\n",
      "\n",
      "nottxt = [i for i in os.listdir('.') if not fnmatch.fnmatch(i, '*.txt')]\n",
      "\n",
      "print nottxt\n"
     ],
     "language": "python",
     "metadata": {},
     "outputs": [
      {
       "output_type": "stream",
       "stream": "stdout",
       "text": [
        "['.DS_Store', '.git', '.ipynb_checkpoints', 'README.md', 'spellman-tocluster.csv', 'workshop1.ipynb', 'workshop2-Copy0.ipynb', 'workshop2.ipynb']\n"
       ]
      }
     ],
     "prompt_number": 35
    },
    {
     "cell_type": "markdown",
     "metadata": {},
     "source": [
      "### Calling other programs from Python"
     ]
    },
    {
     "cell_type": "code",
     "collapsed": false,
     "input": [
      "## subprocess\n",
      "import subprocess\n",
      "subprocess.call(['uptime'], shell=True)  # this calls the OS uptime function but doesn't return what's printed to stdout\n",
      "                                         # rather it tells you whether the call was successful \n",
      "                                         # Unix/Linux systems use a convention of zero for success and non zero for error."
     ],
     "language": "python",
     "metadata": {},
     "outputs": [
      {
       "metadata": {},
       "output_type": "pyout",
       "prompt_number": 49,
       "text": [
        "0"
       ]
      }
     ],
     "prompt_number": 49
    },
    {
     "cell_type": "code",
     "collapsed": false,
     "input": [
      "print subprocess.check_output(['uptime'], shell=True)  # check_output will give us the actual output"
     ],
     "language": "python",
     "metadata": {},
     "outputs": [
      {
       "output_type": "stream",
       "stream": "stdout",
       "text": [
        "13:45  up 5 days, 15:04, 4 users, load averages: 0.87 0.78 0.65\n",
        "\n"
       ]
      }
     ],
     "prompt_number": 50
    },
    {
     "cell_type": "code",
     "collapsed": false,
     "input": [
      "print subprocess.check_output(['whoami'], shell=True)"
     ],
     "language": "python",
     "metadata": {},
     "outputs": [
      {
       "output_type": "stream",
       "stream": "stdout",
       "text": [
        "pmagwene\n",
        "\n"
       ]
      }
     ],
     "prompt_number": 51
    },
    {
     "cell_type": "code",
     "collapsed": false,
     "input": [
      "# the Popen class allows use to do fancier manipulations such as create piped output \n",
      "from subprocess import Popen, PIPE\n",
      "\n",
      "p1 = Popen([\"cat\", \"words.txt\"], stdout=PIPE)  # create a pipe from the cat function\n",
      "p2 = Popen([\"wc\", \"-l\"], stdin=p1.stdout, stdout=PIPE) # wc -l counts the lines in a file\n",
      "p1.stdout.close()\n",
      "\n",
      "output, errors = p2.communicate()\n",
      "\n",
      "print \"Output of process 2:\", output\n",
      "print \"Errors of process 2:\", errors"
     ],
     "language": "python",
     "metadata": {},
     "outputs": [
      {
       "output_type": "stream",
       "stream": "stdout",
       "text": [
        "Output of process 2:        5\n",
        "\n",
        "Errors of process 2: None\n"
       ]
      }
     ],
     "prompt_number": 70
    },
    {
     "cell_type": "markdown",
     "metadata": {},
     "source": [
      "### Generating random numbers"
     ]
    },
    {
     "cell_type": "code",
     "collapsed": false,
     "input": [
      "## The random module provides random number generators and some related functions\n",
      "import random\n",
      "\n",
      "random.random()  # random number in the interval [0,1)"
     ],
     "language": "python",
     "metadata": {},
     "outputs": [
      {
       "metadata": {},
       "output_type": "pyout",
       "prompt_number": 73,
       "text": [
        "0.33213961614757515"
       ]
      }
     ],
     "prompt_number": 73
    },
    {
     "cell_type": "code",
     "collapsed": false,
     "input": [
      "random.randint(0, 10)  # random integer between 0 and 10"
     ],
     "language": "python",
     "metadata": {},
     "outputs": [
      {
       "metadata": {},
       "output_type": "pyout",
       "prompt_number": 74,
       "text": [
        "8"
       ]
      }
     ],
     "prompt_number": 74
    },
    {
     "cell_type": "code",
     "collapsed": false,
     "input": [
      "# 250 draws from the normal distribution with mean 0 and sd = 1\n",
      "normaldata = [random.normalvariate(0, 1) for i in range(250)]  \n",
      "\n",
      "patches = hist(normaldata, bins=20)"
     ],
     "language": "python",
     "metadata": {},
     "outputs": [
      {
       "metadata": {},
       "output_type": "display_data",
       "png": "[encoded data removed]",
       "text": [
        "<matplotlib.figure.Figure at 0x10b28e110>"
       ]
      }
     ],
     "prompt_number": 80
    },
    {
     "cell_type": "code",
     "collapsed": false,
     "input": [
      "sentence = 'The quick brown fox jumped over the lazy dog.'\n",
      "print \"Original sentence: \", sentence\n",
      "\n",
      "words = sentence.split()\n",
      "random.shuffle(words)  # shuffles the list in place\n",
      "randsentence = ' '.join(words)\n",
      "print \"Randomized sentence:\", randsentence\n"
     ],
     "language": "python",
     "metadata": {},
     "outputs": [
      {
       "output_type": "stream",
       "stream": "stdout",
       "text": [
        "Original sentence:  The quick brown fox jumped over the lazy dog.\n",
        "Randomized sentence: the The dog. jumped over brown lazy quick fox\n"
       ]
      }
     ],
     "prompt_number": 85
    },
    {
     "cell_type": "markdown",
     "metadata": {},
     "source": [
      "### Interacting with the command line"
     ]
    },
    {
     "cell_type": "markdown",
     "metadata": {},
     "source": [
      "Open your SSH client and create another connection to your VM.  In your editor of choice (e.g. nano) create the following file, `greeter.py` :"
     ]
    },
    {
     "cell_type": "code",
     "collapsed": false,
     "input": [
      "# greeter.py\n",
      "\n",
      "print \"Hello, my friend!\"\n"
     ],
     "language": "python",
     "metadata": {},
     "outputs": []
    },
    {
     "cell_type": "markdown",
     "metadata": {},
     "source": [
      "Save that file, exit the editor, and then from the command line run it as `python greeter.py`."
     ]
    },
    {
     "cell_type": "markdown",
     "metadata": {},
     "source": [
      "Now change the file as so:"
     ]
    },
    {
     "cell_type": "code",
     "collapsed": false,
     "input": [
      "#!/user/bin/env python\n",
      "# greeter.py \n",
      "\n",
      "print \"Hello, my friend!\""
     ],
     "language": "python",
     "metadata": {},
     "outputs": [
      {
       "output_type": "stream",
       "stream": "stdout",
       "text": [
        "Hello, my friend!\n"
       ]
      }
     ],
     "prompt_number": 86
    },
    {
     "cell_type": "markdown",
     "metadata": {},
     "source": [
      "Now from the command line make the file executable (`chmod +x greeter.py`) and now you can run it as a standard program  `./greeter.py`"
     ]
    },
    {
     "cell_type": "code",
     "collapsed": false,
     "input": [
      "#!/user/bin/env python\n",
      "# greeter.py \n",
      "\n",
      "import sys\n",
      "\n",
      "if len(sys.argv) > 1:\n",
      "    print \"Hello, %s!\" % sys.argv[1]\n",
      "else:\n",
      "    print \"Hello, generic friend!\"\n",
      "\n",
      "print \"-\"*40\n",
      "print \"Information about this program:\"\n",
      "print \"The calling program is:\", sys.argv[0]\n",
      "print \"The arguments to the program were:\", sys.argv[1:]\n"
     ],
     "language": "python",
     "metadata": {},
     "outputs": []
    },
    {
     "cell_type": "heading",
     "level": 1,
     "metadata": {},
     "source": [
      "The Scientific Python Stack"
     ]
    },
    {
     "cell_type": "markdown",
     "metadata": {},
     "source": [
      "The Python scientific computing community has developed a set of \"core\" libraries that provide a great deal of functionality for typical scientific computing applications.  Many other programs assume these libraries are available. This core set of libraries is sometimes called the Scientific Python Stack (http://www.scipy.org/stackspec.html#stackspec).\n",
      "\n",
      "\n",
      "* Numpy -- matrices, linear algebra, basic stats functions\n",
      "* Scipy\n",
      "* Matplotlib\n",
      "* Pandas\n",
      "* Ipython\n",
      "\n",
      "\n"
     ]
    },
    {
     "cell_type": "heading",
     "level": 3,
     "metadata": {},
     "source": [
      "Numpy"
     ]
    },
    {
     "cell_type": "markdown",
     "metadata": {},
     "source": [
      "Numpy is the base of the Scientific Python Stack.  It provides fast and efficient functions and data structures for manipulating numerical data. The Numpy documentation is online at: http://www.numpy.org/\n",
      "\n",
      "The core data structure in Numpy is the array -- an ordered collection of objects all of the same type"
     ]
    },
    {
     "cell_type": "code",
     "collapsed": false,
     "input": [
      "# the basic numpy data structure is the array\n",
      "import numpy as np  # not strictly necessary because I configured IPython to automatically include the core numpy modules\n",
      "\n",
      "x = np.array([0, 2, 4, 6, 6, 8, 10, 11])\n",
      "print x"
     ],
     "language": "python",
     "metadata": {},
     "outputs": [
      {
       "output_type": "stream",
       "stream": "stdout",
       "text": [
        "[ 0  2  4  6  6  8 10 11]\n"
       ]
      }
     ],
     "prompt_number": 115
    },
    {
     "cell_type": "code",
     "collapsed": false,
     "input": [
      "y = np.array([0, 2, 4, 6, 8, 'bob'])  # what's going to happen?\n",
      "print y"
     ],
     "language": "python",
     "metadata": {},
     "outputs": [
      {
       "output_type": "stream",
       "stream": "stdout",
       "text": [
        "['0' '2' '4' '6' '8' 'bob']\n"
       ]
      }
     ],
     "prompt_number": 116
    },
    {
     "cell_type": "code",
     "collapsed": false,
     "input": [
      "len(x)"
     ],
     "language": "python",
     "metadata": {},
     "outputs": [
      {
       "metadata": {},
       "output_type": "pyout",
       "prompt_number": 112,
       "text": [
        "8"
       ]
      }
     ],
     "prompt_number": 112
    },
    {
     "cell_type": "code",
     "collapsed": false,
     "input": [
      "np.mean(x), np.median(x)"
     ],
     "language": "python",
     "metadata": {},
     "outputs": [
      {
       "metadata": {},
       "output_type": "pyout",
       "prompt_number": 113,
       "text": [
        "(5.875, 6.0)"
       ]
      }
     ],
     "prompt_number": 113
    },
    {
     "cell_type": "code",
     "collapsed": false,
     "input": [
      "np.std(x, ddof=1)  # must specify ddof = 1 to get the sample standard deviation (as opposed to popn std dev)"
     ],
     "language": "python",
     "metadata": {},
     "outputs": [
      {
       "metadata": {},
       "output_type": "pyout",
       "prompt_number": 110,
       "text": [
        "3.7961446607992015"
       ]
      }
     ],
     "prompt_number": 110
    },
    {
     "cell_type": "markdown",
     "metadata": {},
     "source": [
      "Arrays can be of arbitrary dimension"
     ]
    },
    {
     "cell_type": "code",
     "collapsed": false,
     "input": [
      "x  = np.array( [[1, 2],\n",
      "                [3, 4],\n",
      "                [5, 6],\n",
      "                [7, 8]])\n",
      "print x"
     ],
     "language": "python",
     "metadata": {},
     "outputs": [
      {
       "output_type": "stream",
       "stream": "stdout",
       "text": [
        "[[1 2]\n",
        " [3 4]\n",
        " [5 6]\n",
        " [7 8]]\n"
       ]
      }
     ],
     "prompt_number": 121
    },
    {
     "cell_type": "code",
     "collapsed": false,
     "input": [
      "x.shape"
     ],
     "language": "python",
     "metadata": {},
     "outputs": [
      {
       "metadata": {},
       "output_type": "pyout",
       "prompt_number": 122,
       "text": [
        "(4, 2)"
       ]
      }
     ],
     "prompt_number": 122
    },
    {
     "cell_type": "code",
     "collapsed": false,
     "input": [
      "# arrays can be accessed by rows or columns\n",
      "x[0]  # first row"
     ],
     "language": "python",
     "metadata": {},
     "outputs": [
      {
       "metadata": {},
       "output_type": "pyout",
       "prompt_number": 123,
       "text": [
        "array([1, 2])"
       ]
      }
     ],
     "prompt_number": 123
    },
    {
     "cell_type": "code",
     "collapsed": false,
     "input": [
      "x[:,0]  # first column"
     ],
     "language": "python",
     "metadata": {},
     "outputs": [
      {
       "metadata": {},
       "output_type": "pyout",
       "prompt_number": 124,
       "text": [
        "array([1, 3, 5, 7])"
       ]
      }
     ],
     "prompt_number": 124
    },
    {
     "cell_type": "code",
     "collapsed": false,
     "input": [
      "x[0,0]  # element at row 0, column 0"
     ],
     "language": "python",
     "metadata": {},
     "outputs": [
      {
       "metadata": {},
       "output_type": "pyout",
       "prompt_number": 125,
       "text": [
        "1"
       ]
      }
     ],
     "prompt_number": 125
    },
    {
     "cell_type": "code",
     "collapsed": false,
     "input": [
      "x[3,1] "
     ],
     "language": "python",
     "metadata": {},
     "outputs": [
      {
       "metadata": {},
       "output_type": "pyout",
       "prompt_number": 126,
       "text": [
        "8"
       ]
      }
     ],
     "prompt_number": 126
    },
    {
     "cell_type": "code",
     "collapsed": false,
     "input": [
      "np.sum(x) # adds up all elements in x"
     ],
     "language": "python",
     "metadata": {},
     "outputs": [
      {
       "metadata": {},
       "output_type": "pyout",
       "prompt_number": 129,
       "text": [
        "36"
       ]
      }
     ],
     "prompt_number": 129
    },
    {
     "cell_type": "code",
     "collapsed": false,
     "input": [
      "x"
     ],
     "language": "python",
     "metadata": {},
     "outputs": [
      {
       "metadata": {},
       "output_type": "pyout",
       "prompt_number": 134,
       "text": [
        "array([[1, 2],\n",
        "       [3, 4],\n",
        "       [5, 6],\n",
        "       [7, 8]])"
       ]
      }
     ],
     "prompt_number": 134
    },
    {
     "cell_type": "code",
     "collapsed": false,
     "input": [
      "np.sum(x, axis=0)  # column sums"
     ],
     "language": "python",
     "metadata": {},
     "outputs": [
      {
       "metadata": {},
       "output_type": "pyout",
       "prompt_number": 132,
       "text": [
        "array([16, 20])"
       ]
      }
     ],
     "prompt_number": 132
    },
    {
     "cell_type": "code",
     "collapsed": false,
     "input": [
      "np.sum(x, axis=1) # row sums"
     ],
     "language": "python",
     "metadata": {},
     "outputs": [
      {
       "metadata": {},
       "output_type": "pyout",
       "prompt_number": 133,
       "text": [
        "array([ 3,  7, 11, 15])"
       ]
      }
     ],
     "prompt_number": 133
    },
    {
     "cell_type": "code",
     "collapsed": false,
     "input": [
      "np.mean(x, axis=0) # columns means"
     ],
     "language": "python",
     "metadata": {},
     "outputs": [
      {
       "metadata": {},
       "output_type": "pyout",
       "prompt_number": 136,
       "text": [
        "array([ 4.,  5.])"
       ]
      }
     ],
     "prompt_number": 136
    },
    {
     "cell_type": "code",
     "collapsed": false,
     "input": [
      "np.mean(x, axis=1) # row means"
     ],
     "language": "python",
     "metadata": {},
     "outputs": [
      {
       "metadata": {},
       "output_type": "pyout",
       "prompt_number": 137,
       "text": [
        "array([ 1.5,  3.5,  5.5,  7.5])"
       ]
      }
     ],
     "prompt_number": 137
    },
    {
     "cell_type": "heading",
     "level": 3,
     "metadata": {},
     "source": [
      "Array arithmetic"
     ]
    },
    {
     "cell_type": "markdown",
     "metadata": {},
     "source": [
      "By default, most operations on Numpy arrays work elementwise"
     ]
    },
    {
     "cell_type": "code",
     "collapsed": false,
     "input": [
      "x"
     ],
     "language": "python",
     "metadata": {},
     "outputs": [
      {
       "metadata": {},
       "output_type": "pyout",
       "prompt_number": 141,
       "text": [
        "array([[1, 2],\n",
        "       [3, 4],\n",
        "       [5, 6],\n",
        "       [7, 8]])"
       ]
      }
     ],
     "prompt_number": 141
    },
    {
     "cell_type": "code",
     "collapsed": false,
     "input": [
      "x + 10  # adds 10 to every element of x"
     ],
     "language": "python",
     "metadata": {},
     "outputs": [
      {
       "metadata": {},
       "output_type": "pyout",
       "prompt_number": 142,
       "text": [
        "array([[11, 12],\n",
        "       [13, 14],\n",
        "       [15, 16],\n",
        "       [17, 18]])"
       ]
      }
     ],
     "prompt_number": 142
    },
    {
     "cell_type": "code",
     "collapsed": false,
     "input": [
      "x * 10"
     ],
     "language": "python",
     "metadata": {},
     "outputs": [
      {
       "metadata": {},
       "output_type": "pyout",
       "prompt_number": 143,
       "text": [
        "array([[10, 20],\n",
        "       [30, 40],\n",
        "       [50, 60],\n",
        "       [70, 80]])"
       ]
      }
     ],
     "prompt_number": 143
    },
    {
     "cell_type": "code",
     "collapsed": false,
     "input": [
      "x/10."
     ],
     "language": "python",
     "metadata": {},
     "outputs": [
      {
       "metadata": {},
       "output_type": "pyout",
       "prompt_number": 144,
       "text": [
        "array([[ 0.1,  0.2],\n",
        "       [ 0.3,  0.4],\n",
        "       [ 0.5,  0.6],\n",
        "       [ 0.7,  0.8]])"
       ]
      }
     ],
     "prompt_number": 144
    },
    {
     "cell_type": "code",
     "collapsed": false,
     "input": [
      "x**2"
     ],
     "language": "python",
     "metadata": {},
     "outputs": [
      {
       "metadata": {},
       "output_type": "pyout",
       "prompt_number": 148,
       "text": [
        "array([[ 1,  4],\n",
        "       [ 9, 16],\n",
        "       [25, 36],\n",
        "       [49, 64]])"
       ]
      }
     ],
     "prompt_number": 148
    },
    {
     "cell_type": "code",
     "collapsed": false,
     "input": [
      "y = x * 0.5\n",
      "y"
     ],
     "language": "python",
     "metadata": {},
     "outputs": [
      {
       "metadata": {},
       "output_type": "pyout",
       "prompt_number": 145,
       "text": [
        "array([[ 0.5,  1. ],\n",
        "       [ 1.5,  2. ],\n",
        "       [ 2.5,  3. ],\n",
        "       [ 3.5,  4. ]])"
       ]
      }
     ],
     "prompt_number": 145
    },
    {
     "cell_type": "code",
     "collapsed": false,
     "input": [
      "x/y"
     ],
     "language": "python",
     "metadata": {},
     "outputs": [
      {
       "metadata": {},
       "output_type": "pyout",
       "prompt_number": 146,
       "text": [
        "array([[ 2.,  2.],\n",
        "       [ 2.,  2.],\n",
        "       [ 2.,  2.],\n",
        "       [ 2.,  2.]])"
       ]
      }
     ],
     "prompt_number": 146
    },
    {
     "cell_type": "code",
     "collapsed": false,
     "input": [
      "x * y"
     ],
     "language": "python",
     "metadata": {},
     "outputs": [
      {
       "metadata": {},
       "output_type": "pyout",
       "prompt_number": 147,
       "text": [
        "array([[  0.5,   2. ],\n",
        "       [  4.5,   8. ],\n",
        "       [ 12.5,  18. ],\n",
        "       [ 24.5,  32. ]])"
       ]
      }
     ],
     "prompt_number": 147
    },
    {
     "cell_type": "markdown",
     "metadata": {},
     "source": [
      "For arithmeitc operations involving multiple arrays, the shapes must match or they can be \"broadcast\" together.  See this link which describes the rules for broadcasting arrays: http://docs.scipy.org/doc/numpy/user/basics.broadcasting.html"
     ]
    },
    {
     "cell_type": "code",
     "collapsed": false,
     "input": [
      "z = array([1,2,3,4])\n",
      "print x + z"
     ],
     "language": "python",
     "metadata": {},
     "outputs": [
      {
       "ename": "ValueError",
       "evalue": "operands could not be broadcast together with shapes (4,2) (4) ",
       "output_type": "pyerr",
       "traceback": [
        "\u001b[0;31m---------------------------------------------------------------------------\u001b[0m\n\u001b[0;31mValueError\u001b[0m                                Traceback (most recent call last)",
        "\u001b[0;32m<ipython-input-151-27ad5ef74a2c>\u001b[0m in \u001b[0;36m<module>\u001b[0;34m()\u001b[0m\n\u001b[1;32m      1\u001b[0m \u001b[0mz\u001b[0m \u001b[0;34m=\u001b[0m \u001b[0marray\u001b[0m\u001b[0;34m(\u001b[0m\u001b[0;34m[\u001b[0m\u001b[0;36m1\u001b[0m\u001b[0;34m,\u001b[0m\u001b[0;36m2\u001b[0m\u001b[0;34m,\u001b[0m\u001b[0;36m3\u001b[0m\u001b[0;34m,\u001b[0m\u001b[0;36m4\u001b[0m\u001b[0;34m]\u001b[0m\u001b[0;34m)\u001b[0m\u001b[0;34m\u001b[0m\u001b[0m\n\u001b[0;32m----> 2\u001b[0;31m \u001b[0;32mprint\u001b[0m \u001b[0mx\u001b[0m \u001b[0;34m+\u001b[0m \u001b[0mz\u001b[0m\u001b[0;34m\u001b[0m\u001b[0m\n\u001b[0m",
        "\u001b[0;31mValueError\u001b[0m: operands could not be broadcast together with shapes (4,2) (4) "
       ]
      }
     ],
     "prompt_number": 151
    },
    {
     "cell_type": "code",
     "collapsed": false,
     "input": [
      "z"
     ],
     "language": "python",
     "metadata": {},
     "outputs": [
      {
       "metadata": {},
       "output_type": "pyout",
       "prompt_number": 153,
       "text": [
        "array([1, 2, 3, 4])"
       ]
      }
     ],
     "prompt_number": 153
    },
    {
     "cell_type": "code",
     "collapsed": false,
     "input": [
      "z.shape"
     ],
     "language": "python",
     "metadata": {},
     "outputs": [
      {
       "metadata": {},
       "output_type": "pyout",
       "prompt_number": 155,
       "text": [
        "(4,)"
       ]
      }
     ],
     "prompt_number": 155
    },
    {
     "cell_type": "code",
     "collapsed": false,
     "input": [
      "z.shape = 4,1  # reshape z\n",
      "z"
     ],
     "language": "python",
     "metadata": {},
     "outputs": [
      {
       "metadata": {},
       "output_type": "pyout",
       "prompt_number": 156,
       "text": [
        "array([[1],\n",
        "       [2],\n",
        "       [3],\n",
        "       [4]])"
       ]
      }
     ],
     "prompt_number": 156
    },
    {
     "cell_type": "code",
     "collapsed": false,
     "input": [
      "x + z  # now x and z can be broadcast together (in this case z can be repeatedly matched to x's columns)"
     ],
     "language": "python",
     "metadata": {},
     "outputs": [
      {
       "metadata": {},
       "output_type": "pyout",
       "prompt_number": 158,
       "text": [
        "array([[ 2,  3],\n",
        "       [ 5,  6],\n",
        "       [ 8,  9],\n",
        "       [11, 12]])"
       ]
      }
     ],
     "prompt_number": 158
    },
    {
     "cell_type": "heading",
     "level": 3,
     "metadata": {},
     "source": [
      "Mathematical Functions on Numpy Arrays"
     ]
    },
    {
     "cell_type": "code",
     "collapsed": false,
     "input": [
      "theta = np.arange(0, 2*pi, step=pi/32.)\n",
      "\n",
      "plot(theta, np.sin(theta), color='red')\n",
      "plot(theta, np.cos(theta), color='black')\n"
     ],
     "language": "python",
     "metadata": {},
     "outputs": [
      {
       "metadata": {},
       "output_type": "pyout",
       "prompt_number": 189,
       "text": [
        "[<matplotlib.lines.Line2D at 0x10c2cb490>]"
       ]
      },
      {
       "metadata": {},
       "output_type": "display_data",
       "png": "[encoded data removed]",
       "text": [
        "<matplotlib.figure.Figure at 0x1094228d0>"
       ]
      }
     ],
     "prompt_number": 189
    },
    {
     "cell_type": "code",
     "collapsed": false,
     "input": [
      "theta = np.arange(0, 2*pi, step=pi/32.)\n",
      "\n",
      "plot(theta, np.sin(theta), color='red')\n",
      "plot(theta, np.cos(theta), color='black')\n",
      "plot(theta, np.sin(theta)**2, color='blue', linestyle='dashed')\n",
      "\n",
      "xlabel('theta')\n",
      "ylabel('f(theta)')\n",
      "xlim(0, 2*pi)\n",
      "ylim(-1.05, 1.05)\n",
      "\n",
      "legend(['sin', 'cos', 'sin**2'], loc='lower left')\n"
     ],
     "language": "python",
     "metadata": {},
     "outputs": [
      {
       "metadata": {},
       "output_type": "pyout",
       "prompt_number": 193,
       "text": [
        "<matplotlib.legend.Legend at 0x10ca83c90>"
       ]
      },
      {
       "metadata": {},
       "output_type": "display_data",
       "png": "[encoded data removed]",
       "text": [
        "<matplotlib.figure.Figure at 0x10c9f4650>"
       ]
      }
     ],
     "prompt_number": 193
    },
    {
     "cell_type": "heading",
     "level": 3,
     "metadata": {},
     "source": [
      "Numpy.random"
     ]
    },
    {
     "cell_type": "code",
     "collapsed": false,
     "input": [
      "n1 = np.random.normal(0, 1, 250)  # 250 draws of std normal distn\n",
      "n2 = np.random.normal(2, 1, 250) # 250 draws from normal with mean = 2, std = 1\n",
      "\n",
      "h1 = hist(n1, bins=20, alpha=0.5, color='grey')\n",
      "h2 = hist(n2, bins=20, alpha=0.5, color='red')\n",
      "\n",
      "ylabel('Frequency')\n",
      "xlabel('Observed value')\n"
     ],
     "language": "python",
     "metadata": {},
     "outputs": [
      {
       "metadata": {},
       "output_type": "pyout",
       "prompt_number": 199,
       "text": [
        "<matplotlib.text.Text at 0x10d31ce50>"
       ]
      },
      {
       "metadata": {},
       "output_type": "display_data",
       "png": "[encoded data removed]",
       "text": [
        "<matplotlib.figure.Figure at 0x10d0cca90>"
       ]
      }
     ],
     "prompt_number": 199
    },
    {
     "cell_type": "code",
     "collapsed": false,
     "input": [
      "means = [0, 0]\n",
      "cov = [[1, 0.6],\n",
      "       [0.6, 1]]\n",
      "\n",
      "bivt = np.random.multivariate_normal(means, cov, 1000)\n",
      "\n",
      "bivt.shape"
     ],
     "language": "python",
     "metadata": {},
     "outputs": [
      {
       "metadata": {},
       "output_type": "pyout",
       "prompt_number": 212,
       "text": [
        "(1000, 2)"
       ]
      }
     ],
     "prompt_number": 212
    },
    {
     "cell_type": "code",
     "collapsed": false,
     "input": [
      "scatter(bivt[:,0], bivt[:,1], color='black')"
     ],
     "language": "python",
     "metadata": {},
     "outputs": [
      {
       "metadata": {},
       "output_type": "pyout",
       "prompt_number": 213,
       "text": [
        "<matplotlib.collections.PathCollection at 0x10d963d90>"
       ]
      },
      {
       "metadata": {},
       "output_type": "display_data",
       "png": "[encoded data removed]",
       "text": [
        "<matplotlib.figure.Figure at 0x10d95cb10>"
       ]
      }
     ],
     "prompt_number": 213
    },
    {
     "cell_type": "code",
     "collapsed": false,
     "input": [
      "h3 = hist2d(bivt[:,0], bivt[:,1], bins=40, cmap='Reds')"
     ],
     "language": "python",
     "metadata": {},
     "outputs": [
      {
       "metadata": {},
       "output_type": "display_data",
       "png": "[encoded data removed]",
       "text": [
        "<matplotlib.figure.Figure at 0x10deedd10>"
       ]
      }
     ],
     "prompt_number": 215
    },
    {
     "cell_type": "heading",
     "level": 3,
     "metadata": {},
     "source": [
      "Linear Algebra"
     ]
    },
    {
     "cell_type": "code",
     "collapsed": false,
     "input": [
      "x = array([[1,2],[3,4]], dtype=np.float)  # explicitly make x a float array\n",
      "x"
     ],
     "language": "python",
     "metadata": {},
     "outputs": [
      {
       "metadata": {},
       "output_type": "pyout",
       "prompt_number": 172,
       "text": [
        "array([[ 1.,  2.],\n",
        "       [ 3.,  4.]])"
       ]
      }
     ],
     "prompt_number": 172
    },
    {
     "cell_type": "code",
     "collapsed": false,
     "input": [
      "x.T  # transpose of X"
     ],
     "language": "python",
     "metadata": {},
     "outputs": [
      {
       "metadata": {},
       "output_type": "pyout",
       "prompt_number": 173,
       "text": [
        "array([[ 1.,  3.],\n",
        "       [ 2.,  4.]])"
       ]
      }
     ],
     "prompt_number": 173
    },
    {
     "cell_type": "code",
     "collapsed": false,
     "input": [
      "y =  array([[11,12],[13,14]], dtype=np.float)\n",
      "y"
     ],
     "language": "python",
     "metadata": {},
     "outputs": [
      {
       "metadata": {},
       "output_type": "pyout",
       "prompt_number": 171,
       "text": [
        "array([[ 11.,  12.],\n",
        "       [ 13.,  14.]])"
       ]
      }
     ],
     "prompt_number": 171
    },
    {
     "cell_type": "code",
     "collapsed": false,
     "input": [
      "x * y  # element-wise multiplication"
     ],
     "language": "python",
     "metadata": {},
     "outputs": [
      {
       "metadata": {},
       "output_type": "pyout",
       "prompt_number": 166,
       "text": [
        "array([[ 11.,  24.],\n",
        "       [ 39.,  56.]])"
       ]
      }
     ],
     "prompt_number": 166
    },
    {
     "cell_type": "code",
     "collapsed": false,
     "input": [
      "np.dot(x, y)  # matrix multiplication"
     ],
     "language": "python",
     "metadata": {},
     "outputs": [
      {
       "metadata": {},
       "output_type": "pyout",
       "prompt_number": 167,
       "text": [
        "array([[ 37.,  40.],\n",
        "       [ 85.,  92.]])"
       ]
      }
     ],
     "prompt_number": 167
    },
    {
     "cell_type": "code",
     "collapsed": false,
     "input": [
      "from numpy import linalg as la  # import linear algebra functions"
     ],
     "language": "python",
     "metadata": {},
     "outputs": [],
     "prompt_number": 168
    },
    {
     "cell_type": "code",
     "collapsed": false,
     "input": [
      "la.inv(x)  # inverse of x"
     ],
     "language": "python",
     "metadata": {},
     "outputs": [
      {
       "metadata": {},
       "output_type": "pyout",
       "prompt_number": 169,
       "text": [
        "array([[-2. ,  1. ],\n",
        "       [ 1.5, -0.5]])"
       ]
      }
     ],
     "prompt_number": 169
    },
    {
     "cell_type": "code",
     "collapsed": false,
     "input": [
      "np.dot(x, la.inv(x))   # should give identity matrix with same shape as X"
     ],
     "language": "python",
     "metadata": {},
     "outputs": [
      {
       "metadata": {},
       "output_type": "pyout",
       "prompt_number": 176,
       "text": [
        "array([[  1.00000000e+00,   1.11022302e-16],\n",
        "       [  0.00000000e+00,   1.00000000e+00]])"
       ]
      }
     ],
     "prompt_number": 176
    },
    {
     "cell_type": "code",
     "collapsed": false,
     "input": [
      "np.set_printoptions(precision=4, suppress=True)  # set default precision to 4 digits and suppress small values"
     ],
     "language": "python",
     "metadata": {},
     "outputs": [],
     "prompt_number": 177
    },
    {
     "cell_type": "code",
     "collapsed": false,
     "input": [
      "np.dot(x, la.inv(x)) "
     ],
     "language": "python",
     "metadata": {},
     "outputs": [
      {
       "metadata": {},
       "output_type": "pyout",
       "prompt_number": 178,
       "text": [
        "array([[ 1.,  0.],\n",
        "       [ 0.,  1.]])"
       ]
      }
     ],
     "prompt_number": 178
    },
    {
     "cell_type": "markdown",
     "metadata": {},
     "source": [
      "The `numpy.linalg` module includes a wide variety of core linear algebra functions"
     ]
    },
    {
     "cell_type": "code",
     "collapsed": false,
     "input": [],
     "language": "python",
     "metadata": {},
     "outputs": []
    }
   ],
   "metadata": {}
  }
 ]
}